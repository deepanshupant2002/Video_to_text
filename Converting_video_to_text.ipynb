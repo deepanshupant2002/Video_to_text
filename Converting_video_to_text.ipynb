{
 "cells": [
  {
   "cell_type": "code",
   "execution_count": 1,
   "id": "b7498df8",
   "metadata": {},
   "outputs": [
    {
     "name": "stderr",
     "output_type": "stream",
     "text": [
      "c:\\users\\asus\\appdata\\local\\programs\\python\\python39\\lib\\site-packages\\pydub\\utils.py:170: RuntimeWarning: Couldn't find ffmpeg or avconv - defaulting to ffmpeg, but may not work\n",
      "  warn(\"Couldn't find ffmpeg or avconv - defaulting to ffmpeg, but may not work\", RuntimeWarning)\n"
     ]
    }
   ],
   "source": [
    "import speech_recognition as sr \n",
    "import os \n",
    "from pydub import AudioSegment\n",
    "from pydub.silence import split_on_silence\n",
    "import moviepy.editor as mp"
   ]
  },
  {
   "cell_type": "code",
   "execution_count": 2,
   "id": "42b1c687",
   "metadata": {},
   "outputs": [],
   "source": [
    "clip = mp.VideoFileClip(r\"work sde.3gpp\")"
   ]
  },
  {
   "cell_type": "code",
   "execution_count": 3,
   "id": "3e92536f",
   "metadata": {},
   "outputs": [
    {
     "name": "stdout",
     "output_type": "stream",
     "text": [
      "MoviePy - Writing audio in converted.wav\n"
     ]
    },
    {
     "name": "stderr",
     "output_type": "stream",
     "text": [
      "                                                                        "
     ]
    },
    {
     "name": "stdout",
     "output_type": "stream",
     "text": [
      "MoviePy - Done.\n"
     ]
    },
    {
     "name": "stderr",
     "output_type": "stream",
     "text": [
      "\r"
     ]
    }
   ],
   "source": [
    "clip.audio.write_audiofile(r\"converted.wav\")"
   ]
  },
  {
   "cell_type": "code",
   "execution_count": 4,
   "id": "dc11b03b",
   "metadata": {},
   "outputs": [],
   "source": [
    "# create a speech recognition object\n",
    "r = sr.Recognizer()"
   ]
  },
  {
   "cell_type": "code",
   "execution_count": 5,
   "id": "40bd0b49",
   "metadata": {},
   "outputs": [],
   "source": [
    "# a function that splits the audio file into chunks\n",
    "# and applies speech recognition\n",
    "def get_large_audio_transcription(path):\n",
    "    \"\"\"\n",
    "    Splitting the large audio file into chunks\n",
    "    and apply speech recognition on each of these chunks\n",
    "    \"\"\"\n",
    "    # open the audio file using pydub\n",
    "    sound = AudioSegment.from_wav(path)  \n",
    "    # split audio sound where silence is 700 miliseconds or more and get chunks\n",
    "    chunks = split_on_silence(sound,\n",
    "        # experiment with this value for your target audio file\n",
    "        min_silence_len = 500,\n",
    "        # adjust this per requirement\n",
    "        silence_thresh = sound.dBFS-14,\n",
    "        # keep the silence for 1 second, adjustable as well\n",
    "        keep_silence=500,\n",
    "    )\n",
    "    folder_name = \"audio-chunks\"\n",
    "    # create a directory to store the audio chunks\n",
    "    if not os.path.isdir(folder_name):\n",
    "        os.mkdir(folder_name)\n",
    "    whole_text = \"\"\n",
    "    # process each chunk \n",
    "    for i, audio_chunk in enumerate(chunks, start=1):\n",
    "        # export audio chunk and save it in\n",
    "        # the `folder_name` directory.\n",
    "        chunk_filename = os.path.join(folder_name, f\"chunk{i}.wav\")\n",
    "        audio_chunk.export(chunk_filename, format=\"wav\")\n",
    "        # recognize the chunk\n",
    "        with sr.AudioFile(chunk_filename) as source:\n",
    "            audio_listened = r.record(source)\n",
    "            # try converting it to text\n",
    "            try:\n",
    "                text = r.recognize_google(audio_listened)\n",
    "            except sr.UnknownValueError as e:\n",
    "                print(\"Error:\", str(e))\n",
    "            else:\n",
    "                text = f\"{text.capitalize()}. \"\n",
    "                print(chunk_filename, \":\", text)\n",
    "                whole_text += text\n",
    "    # return the text for all chunks detected\n",
    "    return whole_text"
   ]
  },
  {
   "cell_type": "code",
   "execution_count": 6,
   "id": "791652b7",
   "metadata": {},
   "outputs": [],
   "source": [
    "path = \"converted.wav\"\n",
    "# print(\"\\nFull text:\", get_large_audio_transcription(path))"
   ]
  },
  {
   "cell_type": "code",
   "execution_count": 7,
   "id": "b62c2270",
   "metadata": {},
   "outputs": [
    {
     "data": {
      "text/plain": [
       "[(<AddressFamily.AF_INET6: 23>, 0, 0, '', ('::1', 8080, 0, 0)),\n",
       " (<AddressFamily.AF_INET: 2>, 0, 0, '', ('127.0.0.1', 8080))]"
      ]
     },
     "execution_count": 7,
     "metadata": {},
     "output_type": "execute_result"
    }
   ],
   "source": [
    "import socket\n",
    "socket.getaddrinfo('localhost', 8080)"
   ]
  },
  {
   "cell_type": "code",
   "execution_count": 8,
   "id": "b4deec7f",
   "metadata": {},
   "outputs": [
    {
     "name": "stdout",
     "output_type": "stream",
     "text": [
      "audio-chunks\\chunk1.wav : Project. \n",
      "audio-chunks\\chunk2.wav : Ab exchange to kar sakte ho aapke pass dimag hai iski vajah se aapko liya gaya. \n",
      "audio-chunks\\chunk3.wav : I'm going paid. \n",
      "Error: \n",
      "audio-chunks\\chunk5.wav : What is the work of fiction do while he is at the company. \n",
      "audio-chunks\\chunk6.wav : How to preparation for the company and that is. \n",
      "audio-chunks\\chunk7.wav : Ok. \n",
      "audio-chunks\\chunk8.wav : That's very interesting question the hardware by. \n",
      "audio-chunks\\chunk9.wav : Starting working in a company. \n",
      "audio-chunks\\chunk10.wav : If you just join your first company. \n",
      "audio-chunks\\chunk11.wav : English should be about one or two months of training. \n",
      "audio-chunks\\chunk12.wav : And in that issue some common concept that all is you should know about it be root to this how to write code and we know how to solve some simple mathematical problems. \n",
      "audio-chunks\\chunk13.wav : Abhi. \n",
      "audio-chunks\\chunk14.wav : You like me you have. \n",
      "audio-chunks\\chunk15.wav : Motor difference in orissa koi aapko bolata hai ki yah project mein yah chij change kar do. \n",
      "audio-chunks\\chunk16.wav : Ab exchange ko kar sakte ho. \n",
      "audio-chunks\\chunk17.wav : I'm going paid. \n",
      "audio-chunks\\chunk18.wav : But what you want to do it you want to make it flexible. \n",
      "audio-chunks\\chunk19.wav : Change karte ho aaj karte ho. \n",
      "audio-chunks\\chunk20.wav : To aap. \n",
      "audio-chunks\\chunk21.wav : Thoda aage ka soch ke first in nashik pahle aaj karte ho. \n",
      "audio-chunks\\chunk22.wav : Yah sari chij hoti hai yah aap. \n",
      "audio-chunks\\chunk23.wav : Divide food kar rahe ho. \n",
      "audio-chunks\\chunk24.wav : To aapko surah fatiha i would personally recommend ki you focus a lot and your training period ok but that is is very important. \n",
      "audio-chunks\\chunk25.wav : Secondary interest in be very humble. \n",
      "audio-chunks\\chunk26.wav : Sudhakar john more things and people are more patient with you. \n",
      "Error: \n",
      "audio-chunks\\chunk28.wav : Jo aapko bhi naya technology diya gaya kisi ko nahin pata agar open source to achcha google mein uske bare mein. \n",
      "audio-chunks\\chunk29.wav : Open soch mushkil hota hai ki aap andar hi andar uska documentation padh kar khud se samajhte karna. \n",
      "audio-chunks\\chunk30.wav : Vah bata do sexy to iske liye hamen ek chij hoti ki. \n",
      "audio-chunks\\chunk31.wav : Problem. \n",
      "audio-chunks\\chunk32.wav : Uske bare mein vishva shasan contact. \n",
      "audio-chunks\\chunk33.wav : The city. \n",
      "audio-chunks\\chunk34.wav : Agar mere pass aye kash kash ham log tikta operating system mein rahte hain. \n",
      "Error: \n",
      "audio-chunks\\chunk36.wav : This fixes a common problem save on ke bare mein aisi hard bass clear. \n",
      "audio-chunks\\chunk37.wav : Then we can understand ki technology book kaun sa problem solve kar raha hai. \n",
      "audio-chunks\\chunk38.wav : Elasticsearch use karne ke liye. \n",
      "audio-chunks\\chunk39.wav : Abhi agar aap ko pata hai ki data bases kya hoti hai. \n",
      "audio-chunks\\chunk40.wav : Data structure kya hota hai. \n",
      "audio-chunks\\chunk41.wav : Abhi aap ko pata chalega ki yah search. \n",
      "audio-chunks\\chunk42.wav : Elasticsearch kaise kar raha hoga andar hi andar aur hamen elasticsearch jarurat hai kaun si prani course call kar raha hai. \n",
      "Error: \n",
      "audio-chunks\\chunk44.wav : When a person is a technology don't be born down by a technology. \n",
      "audio-chunks\\chunk45.wav : Latest latest. \n",
      "audio-chunks\\chunk46.wav : Your dependency library hai. \n",
      "audio-chunks\\chunk47.wav : If yes no. \n",
      "audio-chunks\\chunk48.wav : Focus on what is the problem it is salty. \n",
      "audio-chunks\\chunk49.wav : Uske liye nitin asking so against of you are seen as much as possible but in general note from salt. \n",
      "audio-chunks\\chunk50.wav : Ab keeping that in mind. \n",
      "audio-chunks\\chunk51.wav : Look internet technology ki. \n",
      "Error: \n",
      "Error: \n",
      "audio-chunks\\chunk54.wav : Aur sar yahan per confusion dekha many students who when i ask them when i ask me. \n",
      "audio-chunks\\chunk55.wav : When someone saying that you should do coding you should you should invest your time on the online platform to competitive programming and all of that students response sometime that you don't know what is the work we have to do at the company that is very different from this competitive coding or coding at the online platforms. \n",
      "audio-chunks\\chunk56.wav : What is this like what i feel it this is a kind of ladder that we have to do all the stuff in order to reach to a company then we will be doing the things which you stated now. \n",
      "audio-chunks\\chunk57.wav : Yes and two sides of the coin have one of the things is this a. \n",
      "audio-chunks\\chunk58.wav : Yah rishta kya fayde use company music nahin hota to matlab. \n",
      "audio-chunks\\chunk59.wav : Ok so that is one that is correct also to some extent. \n",
      "audio-chunks\\chunk60.wav : Ab do chij ke vahan per ek hai ki. \n",
      "audio-chunks\\chunk61.wav : Yaar aap kya simplecraft officer nahin kar sakta computer engineer hone ke bavjud. \n",
      "audio-chunks\\chunk62.wav : Agar aap nahin kar sakte to wapas company mein. \n",
      "audio-chunks\\chunk63.wav : Kailash meena. \n",
      "audio-chunks\\chunk64.wav : That is the. \n",
      "audio-chunks\\chunk65.wav : Companies perspective. \n",
      "audio-chunks\\chunk66.wav : Now. \n",
      "audio-chunks\\chunk67.wav : Tell me one person who has invented something. \n",
      "audio-chunks\\chunk68.wav : And does not know about high court. \n",
      "audio-chunks\\chunk69.wav : There is no such person. \n",
      "audio-chunks\\chunk70.wav : So. \n",
      "audio-chunks\\chunk71.wav : When a person says ki yaar ki jarurat nahin hai. \n",
      "audio-chunks\\chunk72.wav : To aap per developer yah bahut hi constrained tarike mat bheja to main jin logon train ki jo 11 sal 12 sal experience wale log hain complexity hoti hai. \n",
      "audio-chunks\\chunk73.wav : Today se mistake hoti hai. \n",
      "audio-chunks\\chunk74.wav : Function kaun ko complex din pata hai. \n",
      "audio-chunks\\chunk75.wav : Kya aake mujhe bol sakti agar do tortoise hai problem. \n",
      "audio-chunks\\chunk76.wav : Order and s6 edge plus seven kar raha hun to any ho gaya. \n",
      "audio-chunks\\chunk77.wav : It is interesting to see you know that this clear mi a2 kitna mushkil hota hai bad mein. \n",
      "audio-chunks\\chunk78.wav : You are familiar with the concepts of data structures and algorithms. \n",
      "audio-chunks\\chunk79.wav : The life and interest in the coding h the company and become a little bit easy that we are able to apply those concepts. \n",
      "audio-chunks\\chunk80.wav : To some other different problem which are given to us. \n",
      "audio-chunks\\chunk81.wav : I am very sure that listening this even my doubt got clear. \n",
      "audio-chunks\\chunk82.wav : I think. \n",
      "audio-chunks\\chunk83.wav : Responsibilities on both sides. \n",
      "audio-chunks\\chunk84.wav : Aapke side per hai ki aap hui jaan lagao kudi si khushi se you know. \n",
      "audio-chunks\\chunk85.wav : As much as possible you take responsibility for yourself and learn. \n",
      "audio-chunks\\chunk86.wav : And accountability on and on. \n",
      "audio-chunks\\chunk87.wav : Tutitu. \n",
      "audio-chunks\\chunk88.wav : If they are not doing well and appealing. \n",
      "audio-chunks\\chunk89.wav : Themselves. \n",
      "audio-chunks\\chunk90.wav : So it is. \n",
      "audio-chunks\\chunk91.wav : It is a mixture and so don't believe yourself entirely you initial you don't understand something. \n",
      "audio-chunks\\chunk92.wav : Water some of the common mistakes you see students doing right now but they are preparing for interview. \n",
      "audio-chunks\\chunk93.wav : We could see a lot of students not able to get job any not just not talking about big tech companies and talking about in all said that there are large number of startups there there are a large number of service based companies also product based companies take some students are doing that they are not able to get the jobs. \n",
      "audio-chunks\\chunk94.wav : It's it's a vicious cycle. \n",
      "audio-chunks\\chunk95.wav : Solar system. \n",
      "audio-chunks\\chunk96.wav : Is. \n",
      "audio-chunks\\chunk97.wav : Ok is not bad new syllabus the side khatam hua kafi smart log hote hain. \n",
      "audio-chunks\\chunk98.wav : Jo colleges. \n",
      "audio-chunks\\chunk99.wav : Choose karte exam mein poochhne ke liye vah bhi theek thaak rahata hai. \n",
      "audio-chunks\\chunk100.wav : Kuch bahut hi kharab question puche jate hain jo matlab 5 sal se vahi poochh rahe aur. \n",
      "audio-chunks\\chunk101.wav : Indra kumar ke a rahe hain aur. \n",
      "audio-chunks\\chunk102.wav : Just vomiting in the exam hall. \n",
      "audio-chunks\\chunk103.wav : Problem. \n",
      "audio-chunks\\chunk104.wav : Aap cheez practical mein ham log jyada focus nahin karte. \n"
     ]
    },
    {
     "name": "stdout",
     "output_type": "stream",
     "text": [
      "audio-chunks\\chunk105.wav : Ham log bahut jyada theory mein pocus karte bachpan se. \n",
      "audio-chunks\\chunk106.wav : Agri infrastructure and. \n",
      "audio-chunks\\chunk107.wav : Stock mein problem hai. \n",
      "audio-chunks\\chunk108.wav : But ek apne attitude mein bhi problem hai. \n",
      "Error: \n",
      "audio-chunks\\chunk110.wav : I remember in my college all other people used to be like. \n",
      "audio-chunks\\chunk111.wav : Kya ho gaya. \n",
      "Error: \n",
      "audio-chunks\\chunk113.wav : So what ek. \n",
      "audio-chunks\\chunk114.wav : Ek bandar practical kar raha hai. \n",
      "audio-chunks\\chunk115.wav : Output device. \n",
      "audio-chunks\\chunk116.wav : Ab agar assignment diya hai to kyon karenge. \n",
      "audio-chunks\\chunk117.wav : Kharab ki kya puchta hun student ko assignment lene ke liye. \n",
      "audio-chunks\\chunk118.wav : How to take responsibility in life you have to take responsibility. \n",
      "Error: \n",
      "audio-chunks\\chunk120.wav : You got the universe actress genuinely. \n",
      "audio-chunks\\chunk121.wav : And in this way. \n",
      "audio-chunks\\chunk122.wav : You will start going ahead of. \n",
      "audio-chunks\\chunk123.wav : The rest of the crowd a lot. \n",
      "audio-chunks\\chunk124.wav : Lot. \n",
      "audio-chunks\\chunk125.wav : I'll tell you on sleep i can't believe it. \n",
      "audio-chunks\\chunk126.wav : Mere college mein jp morgan aaya tha pahla company tha jo kisne kiya tha. \n",
      "audio-chunks\\chunk127.wav : Us time par jo log kiye kar chuke the active test or group discussion vo log jakar mode shortcut rahe the. \n",
      "audio-chunks\\chunk128.wav : 4 sal bad ke bad tum padh rahe ho. \n",
      "audio-chunks\\chunk129.wav : How can i respect. \n",
      "audio-chunks\\chunk130.wav : A person who is learning much sought after 4 years engineering. \n",
      "audio-chunks\\chunk131.wav : So. \n",
      "audio-chunks\\chunk132.wav : That is because you didn't do any practicals you have no idea what algorithms are this is all your fault you can't go and imagination system limited. \n",
      "Error: \n",
      "audio-chunks\\chunk134.wav : Classmate. \n",
      "audio-chunks\\chunk135.wav : State the person bacche nahin patna pakistan padh rahe ho interview ke baad kya hota hai login login complicity kya hota hai. \n",
      "audio-chunks\\chunk136.wav : Uttam. \n",
      "audio-chunks\\chunk137.wav : What is going on. \n",
      "audio-chunks\\chunk138.wav : Don't waste your time in college that much. \n",
      "audio-chunks\\chunk139.wav : College day for enjoying but also then you have to take responsibility happy journey. \n",
      "audio-chunks\\chunk140.wav : I think that is just because that in practical they have never implemented. \n",
      "audio-chunks\\chunk141.wav : After one month or two week they tend to forget that how the more shot is done. \n",
      "audio-chunks\\chunk142.wav : Absolutely i think your your right and reason for that is 1 to hamara education system and is also pretty bad. \n",
      "audio-chunks\\chunk143.wav : Question bank wala philosophy attacking koi bhi exam ke question bank mil jaaye to achcha rahega. \n",
      "audio-chunks\\chunk144.wav : Question bank. \n",
      "audio-chunks\\chunk145.wav : The companies are going to value to without the question bank therefore because they want to people who are useful to them. \n"
     ]
    }
   ],
   "source": [
    "text = get_large_audio_transcription(path)"
   ]
  },
  {
   "cell_type": "code",
   "execution_count": 9,
   "id": "9db7f1c6",
   "metadata": {},
   "outputs": [
    {
     "data": {
      "text/plain": [
       "\"Project. Ab exchange to kar sakte ho aapke pass dimag hai iski vajah se aapko liya gaya. I'm going paid. What is the work of fiction do while he is at the company. How to preparation for the company and that is. Ok. That's very interesting question the hardware by. Starting working in a company. If you just join your first company. English should be about one or two months of training. And in that issue some common concept that all is you should know about it be root to this how to write code and we know how to solve some simple mathematical problems. Abhi. You like me you have. Motor difference in orissa koi aapko bolata hai ki yah project mein yah chij change kar do. Ab exchange ko kar sakte ho. I'm going paid. But what you want to do it you want to make it flexible. Change karte ho aaj karte ho. To aap. Thoda aage ka soch ke first in nashik pahle aaj karte ho. Yah sari chij hoti hai yah aap. Divide food kar rahe ho. To aapko surah fatiha i would personally recommend ki you focus a lot and your training period ok but that is is very important. Secondary interest in be very humble. Sudhakar john more things and people are more patient with you. Jo aapko bhi naya technology diya gaya kisi ko nahin pata agar open source to achcha google mein uske bare mein. Open soch mushkil hota hai ki aap andar hi andar uska documentation padh kar khud se samajhte karna. Vah bata do sexy to iske liye hamen ek chij hoti ki. Problem. Uske bare mein vishva shasan contact. The city. Agar mere pass aye kash kash ham log tikta operating system mein rahte hain. This fixes a common problem save on ke bare mein aisi hard bass clear. Then we can understand ki technology book kaun sa problem solve kar raha hai. Elasticsearch use karne ke liye. Abhi agar aap ko pata hai ki data bases kya hoti hai. Data structure kya hota hai. Abhi aap ko pata chalega ki yah search. Elasticsearch kaise kar raha hoga andar hi andar aur hamen elasticsearch jarurat hai kaun si prani course call kar raha hai. When a person is a technology don't be born down by a technology. Latest latest. Your dependency library hai. If yes no. Focus on what is the problem it is salty. Uske liye nitin asking so against of you are seen as much as possible but in general note from salt. Ab keeping that in mind. Look internet technology ki. Aur sar yahan per confusion dekha many students who when i ask them when i ask me. When someone saying that you should do coding you should you should invest your time on the online platform to competitive programming and all of that students response sometime that you don't know what is the work we have to do at the company that is very different from this competitive coding or coding at the online platforms. What is this like what i feel it this is a kind of ladder that we have to do all the stuff in order to reach to a company then we will be doing the things which you stated now. Yes and two sides of the coin have one of the things is this a. Yah rishta kya fayde use company music nahin hota to matlab. Ok so that is one that is correct also to some extent. Ab do chij ke vahan per ek hai ki. Yaar aap kya simplecraft officer nahin kar sakta computer engineer hone ke bavjud. Agar aap nahin kar sakte to wapas company mein. Kailash meena. That is the. Companies perspective. Now. Tell me one person who has invented something. And does not know about high court. There is no such person. So. When a person says ki yaar ki jarurat nahin hai. To aap per developer yah bahut hi constrained tarike mat bheja to main jin logon train ki jo 11 sal 12 sal experience wale log hain complexity hoti hai. Today se mistake hoti hai. Function kaun ko complex din pata hai. Kya aake mujhe bol sakti agar do tortoise hai problem. Order and s6 edge plus seven kar raha hun to any ho gaya. It is interesting to see you know that this clear mi a2 kitna mushkil hota hai bad mein. You are familiar with the concepts of data structures and algorithms. The life and interest in the coding h the company and become a little bit easy that we are able to apply those concepts. To some other different problem which are given to us. I am very sure that listening this even my doubt got clear. I think. Responsibilities on both sides. Aapke side per hai ki aap hui jaan lagao kudi si khushi se you know. As much as possible you take responsibility for yourself and learn. And accountability on and on. Tutitu. If they are not doing well and appealing. Themselves. So it is. It is a mixture and so don't believe yourself entirely you initial you don't understand something. Water some of the common mistakes you see students doing right now but they are preparing for interview. We could see a lot of students not able to get job any not just not talking about big tech companies and talking about in all said that there are large number of startups there there are a large number of service based companies also product based companies take some students are doing that they are not able to get the jobs. It's it's a vicious cycle. Solar system. Is. Ok is not bad new syllabus the side khatam hua kafi smart log hote hain. Jo colleges. Choose karte exam mein poochhne ke liye vah bhi theek thaak rahata hai. Kuch bahut hi kharab question puche jate hain jo matlab 5 sal se vahi poochh rahe aur. Indra kumar ke a rahe hain aur. Just vomiting in the exam hall. Problem. Aap cheez practical mein ham log jyada focus nahin karte. Ham log bahut jyada theory mein pocus karte bachpan se. Agri infrastructure and. Stock mein problem hai. But ek apne attitude mein bhi problem hai. I remember in my college all other people used to be like. Kya ho gaya. So what ek. Ek bandar practical kar raha hai. Output device. Ab agar assignment diya hai to kyon karenge. Kharab ki kya puchta hun student ko assignment lene ke liye. How to take responsibility in life you have to take responsibility. You got the universe actress genuinely. And in this way. You will start going ahead of. The rest of the crowd a lot. Lot. I'll tell you on sleep i can't believe it. Mere college mein jp morgan aaya tha pahla company tha jo kisne kiya tha. Us time par jo log kiye kar chuke the active test or group discussion vo log jakar mode shortcut rahe the. 4 sal bad ke bad tum padh rahe ho. How can i respect. A person who is learning much sought after 4 years engineering. So. That is because you didn't do any practicals you have no idea what algorithms are this is all your fault you can't go and imagination system limited. Classmate. State the person bacche nahin patna pakistan padh rahe ho interview ke baad kya hota hai login login complicity kya hota hai. Uttam. What is going on. Don't waste your time in college that much. College day for enjoying but also then you have to take responsibility happy journey. I think that is just because that in practical they have never implemented. After one month or two week they tend to forget that how the more shot is done. Absolutely i think your your right and reason for that is 1 to hamara education system and is also pretty bad. Question bank wala philosophy attacking koi bhi exam ke question bank mil jaaye to achcha rahega. Question bank. The companies are going to value to without the question bank therefore because they want to people who are useful to them. \""
      ]
     },
     "execution_count": 9,
     "metadata": {},
     "output_type": "execute_result"
    }
   ],
   "source": [
    "text"
   ]
  },
  {
   "cell_type": "code",
   "execution_count": 10,
   "id": "801c203e",
   "metadata": {},
   "outputs": [],
   "source": [
    "import spacy\n",
    "from spacy.lang.en.stop_words import STOP_WORDS\n",
    "from string import punctuation"
   ]
  },
  {
   "cell_type": "code",
   "execution_count": 11,
   "id": "7f03e49e",
   "metadata": {},
   "outputs": [],
   "source": [
    "stopwords = list(STOP_WORDS)"
   ]
  },
  {
   "cell_type": "code",
   "execution_count": 12,
   "id": "17686136",
   "metadata": {},
   "outputs": [],
   "source": [
    "nlp = spacy.load('en_core_web_sm')"
   ]
  },
  {
   "cell_type": "code",
   "execution_count": 13,
   "id": "ade0642a",
   "metadata": {},
   "outputs": [],
   "source": [
    "doc = nlp(text)"
   ]
  },
  {
   "cell_type": "code",
   "execution_count": 14,
   "id": "b5fc930c",
   "metadata": {},
   "outputs": [
    {
     "name": "stdout",
     "output_type": "stream",
     "text": [
      "['Project', '.', 'Ab', 'exchange', 'to', 'kar', 'sakte', 'ho', 'aapke', 'pass', 'dimag', 'hai', 'iski', 'vajah', 'se', 'aapko', 'liya', 'gaya', '.', 'I', \"'m\", 'going', 'paid', '.', 'What', 'is', 'the', 'work', 'of', 'fiction', 'do', 'while', 'he', 'is', 'at', 'the', 'company', '.', 'How', 'to', 'preparation', 'for', 'the', 'company', 'and', 'that', 'is', '.', 'Ok', '.', 'That', \"'s\", 'very', 'interesting', 'question', 'the', 'hardware', 'by', '.', 'Starting', 'working', 'in', 'a', 'company', '.', 'If', 'you', 'just', 'join', 'your', 'first', 'company', '.', 'English', 'should', 'be', 'about', 'one', 'or', 'two', 'months', 'of', 'training', '.', 'And', 'in', 'that', 'issue', 'some', 'common', 'concept', 'that', 'all', 'is', 'you', 'should', 'know', 'about', 'it', 'be', 'root', 'to', 'this', 'how', 'to', 'write', 'code', 'and', 'we', 'know', 'how', 'to', 'solve', 'some', 'simple', 'mathematical', 'problems', '.', 'Abhi', '.', 'You', 'like', 'me', 'you', 'have', '.', 'Motor', 'difference', 'in', 'orissa', 'koi', 'aapko', 'bolata', 'hai', 'ki', 'yah', 'project', 'mein', 'yah', 'chij', 'change', 'kar', 'do', '.', 'Ab', 'exchange', 'ko', 'kar', 'sakte', 'ho', '.', 'I', \"'m\", 'going', 'paid', '.', 'But', 'what', 'you', 'want', 'to', 'do', 'it', 'you', 'want', 'to', 'make', 'it', 'flexible', '.', 'Change', 'karte', 'ho', 'aaj', 'karte', 'ho', '.', 'To', 'aap', '.', 'Thoda', 'aage', 'ka', 'soch', 'ke', 'first', 'in', 'nashik', 'pahle', 'aaj', 'karte', 'ho', '.', 'Yah', 'sari', 'chij', 'hoti', 'hai', 'yah', 'aap', '.', 'Divide', 'food', 'kar', 'rahe', 'ho', '.', 'To', 'aapko', 'surah', 'fatiha', 'i', 'would', 'personally', 'recommend', 'ki', 'you', 'focus', 'a', 'lot', 'and', 'your', 'training', 'period', 'ok', 'but', 'that', 'is', 'is', 'very', 'important', '.', 'Secondary', 'interest', 'in', 'be', 'very', 'humble', '.', 'Sudhakar', 'john', 'more', 'things', 'and', 'people', 'are', 'more', 'patient', 'with', 'you', '.', 'Jo', 'aapko', 'bhi', 'naya', 'technology', 'diya', 'gaya', 'kisi', 'ko', 'nahin', 'pata', 'agar', 'open', 'source', 'to', 'achcha', 'google', 'mein', 'uske', 'bare', 'mein', '.', 'Open', 'soch', 'mushkil', 'hota', 'hai', 'ki', 'aap', 'andar', 'hi', 'andar', 'uska', 'documentation', 'padh', 'kar', 'khud', 'se', 'samajhte', 'karna', '.', 'Vah', 'bata', 'do', 'sexy', 'to', 'iske', 'liye', 'hamen', 'ek', 'chij', 'hoti', 'ki', '.', 'Problem', '.', 'Uske', 'bare', 'mein', 'vishva', 'shasan', 'contact', '.', 'The', 'city', '.', 'Agar', 'mere', 'pass', 'aye', 'kash', 'kash', 'ham', 'log', 'tikta', 'operating', 'system', 'mein', 'rahte', 'hain', '.', 'This', 'fixes', 'a', 'common', 'problem', 'save', 'on', 'ke', 'bare', 'mein', 'aisi', 'hard', 'bass', 'clear', '.', 'Then', 'we', 'can', 'understand', 'ki', 'technology', 'book', 'kaun', 'sa', 'problem', 'solve', 'kar', 'raha', 'hai', '.', 'Elasticsearch', 'use', 'karne', 'ke', 'liye', '.', 'Abhi', 'agar', 'aap', 'ko', 'pata', 'hai', 'ki', 'data', 'bases', 'kya', 'hoti', 'hai', '.', 'Data', 'structure', 'kya', 'hota', 'hai', '.', 'Abhi', 'aap', 'ko', 'pata', 'chalega', 'ki', 'yah', 'search', '.', 'Elasticsearch', 'kaise', 'kar', 'raha', 'hoga', 'andar', 'hi', 'andar', 'aur', 'hamen', 'elasticsearch', 'jarurat', 'hai', 'kaun', 'si', 'prani', 'course', 'call', 'kar', 'raha', 'hai', '.', 'When', 'a', 'person', 'is', 'a', 'technology', 'do', \"n't\", 'be', 'born', 'down', 'by', 'a', 'technology', '.', 'Latest', 'latest', '.', 'Your', 'dependency', 'library', 'hai', '.', 'If', 'yes', 'no', '.', 'Focus', 'on', 'what', 'is', 'the', 'problem', 'it', 'is', 'salty', '.', 'Uske', 'liye', 'nitin', 'asking', 'so', 'against', 'of', 'you', 'are', 'seen', 'as', 'much', 'as', 'possible', 'but', 'in', 'general', 'note', 'from', 'salt', '.', 'Ab', 'keeping', 'that', 'in', 'mind', '.', 'Look', 'internet', 'technology', 'ki', '.', 'Aur', 'sar', 'yahan', 'per', 'confusion', 'dekha', 'many', 'students', 'who', 'when', 'i', 'ask', 'them', 'when', 'i', 'ask', 'me', '.', 'When', 'someone', 'saying', 'that', 'you', 'should', 'do', 'coding', 'you', 'should', 'you', 'should', 'invest', 'your', 'time', 'on', 'the', 'online', 'platform', 'to', 'competitive', 'programming', 'and', 'all', 'of', 'that', 'students', 'response', 'sometime', 'that', 'you', 'do', \"n't\", 'know', 'what', 'is', 'the', 'work', 'we', 'have', 'to', 'do', 'at', 'the', 'company', 'that', 'is', 'very', 'different', 'from', 'this', 'competitive', 'coding', 'or', 'coding', 'at', 'the', 'online', 'platforms', '.', 'What', 'is', 'this', 'like', 'what', 'i', 'feel', 'it', 'this', 'is', 'a', 'kind', 'of', 'ladder', 'that', 'we', 'have', 'to', 'do', 'all', 'the', 'stuff', 'in', 'order', 'to', 'reach', 'to', 'a', 'company', 'then', 'we', 'will', 'be', 'doing', 'the', 'things', 'which', 'you', 'stated', 'now', '.', 'Yes', 'and', 'two', 'sides', 'of', 'the', 'coin', 'have', 'one', 'of', 'the', 'things', 'is', 'this', 'a.', 'Yah', 'rishta', 'kya', 'fayde', 'use', 'company', 'music', 'nahin', 'hota', 'to', 'matlab', '.', 'Ok', 'so', 'that', 'is', 'one', 'that', 'is', 'correct', 'also', 'to', 'some', 'extent', '.', 'Ab', 'do', 'chij', 'ke', 'vahan', 'per', 'ek', 'hai', 'ki', '.', 'Yaar', 'aap', 'kya', 'simplecraft', 'officer', 'nahin', 'kar', 'sakta', 'computer', 'engineer', 'hone', 'ke', 'bavjud', '.', 'Agar', 'aap', 'nahin', 'kar', 'sakte', 'to', 'wapas', 'company', 'mein', '.', 'Kailash', 'meena', '.', 'That', 'is', 'the', '.', 'Companies', 'perspective', '.', 'Now', '.', 'Tell', 'me', 'one', 'person', 'who', 'has', 'invented', 'something', '.', 'And', 'does', 'not', 'know', 'about', 'high', 'court', '.', 'There', 'is', 'no', 'such', 'person', '.', 'So', '.', 'When', 'a', 'person', 'says', 'ki', 'yaar', 'ki', 'jarurat', 'nahin', 'hai', '.', 'To', 'aap', 'per', 'developer', 'yah', 'bahut', 'hi', 'constrained', 'tarike', 'mat', 'bheja', 'to', 'main', 'jin', 'logon', 'train', 'ki', 'jo', '11', 'sal', '12', 'sal', 'experience', 'wale', 'log', 'hain', 'complexity', 'hoti', 'hai', '.', 'Today', 'se', 'mistake', 'hoti', 'hai', '.', 'Function', 'kaun', 'ko', 'complex', 'din', 'pata', 'hai', '.', 'Kya', 'aake', 'mujhe', 'bol', 'sakti', 'agar', 'do', 'tortoise', 'hai', 'problem', '.', 'Order', 'and', 's6', 'edge', 'plus', 'seven', 'kar', 'raha', 'hun', 'to', 'any', 'ho', 'gaya', '.', 'It', 'is', 'interesting', 'to', 'see', 'you', 'know', 'that', 'this', 'clear', 'mi', 'a2', 'kitna', 'mushkil', 'hota', 'hai', 'bad', 'mein', '.', 'You', 'are', 'familiar', 'with', 'the', 'concepts', 'of', 'data', 'structures', 'and', 'algorithms', '.', 'The', 'life', 'and', 'interest', 'in', 'the', 'coding', 'h', 'the', 'company', 'and', 'become', 'a', 'little', 'bit', 'easy', 'that', 'we', 'are', 'able', 'to', 'apply', 'those', 'concepts', '.', 'To', 'some', 'other', 'different', 'problem', 'which', 'are', 'given', 'to', 'us', '.', 'I', 'am', 'very', 'sure', 'that', 'listening', 'this', 'even', 'my', 'doubt', 'got', 'clear', '.', 'I', 'think', '.', 'Responsibilities', 'on', 'both', 'sides', '.', 'Aapke', 'side', 'per', 'hai', 'ki', 'aap', 'hui', 'jaan', 'lagao', 'kudi', 'si', 'khushi', 'se', 'you', 'know', '.', 'As', 'much', 'as', 'possible', 'you', 'take', 'responsibility', 'for', 'yourself', 'and', 'learn', '.', 'And', 'accountability', 'on', 'and', 'on', '.', 'Tutitu', '.', 'If', 'they', 'are', 'not', 'doing', 'well', 'and', 'appealing', '.', 'Themselves', '.', 'So', 'it', 'is', '.', 'It', 'is', 'a', 'mixture', 'and', 'so', 'do', \"n't\", 'believe', 'yourself', 'entirely', 'you', 'initial', 'you', 'do', \"n't\", 'understand', 'something', '.', 'Water', 'some', 'of', 'the', 'common', 'mistakes', 'you', 'see', 'students', 'doing', 'right', 'now', 'but', 'they', 'are', 'preparing', 'for', 'interview', '.', 'We', 'could', 'see', 'a', 'lot', 'of', 'students', 'not', 'able', 'to', 'get', 'job', 'any', 'not', 'just', 'not', 'talking', 'about', 'big', 'tech', 'companies', 'and', 'talking', 'about', 'in', 'all', 'said', 'that', 'there', 'are', 'large', 'number', 'of', 'startups', 'there', 'there', 'are', 'a', 'large', 'number', 'of', 'service', 'based', 'companies', 'also', 'product', 'based', 'companies', 'take', 'some', 'students', 'are', 'doing', 'that', 'they', 'are', 'not', 'able', 'to', 'get', 'the', 'jobs', '.', 'It', \"'s\", 'it', \"'s\", 'a', 'vicious', 'cycle', '.', 'Solar', 'system', '.', 'Is', '.', 'Ok', 'is', 'not', 'bad', 'new', 'syllabus', 'the', 'side', 'khatam', 'hua', 'kafi', 'smart', 'log', 'hote', 'hain', '.', 'Jo', 'colleges', '.', 'Choose', 'karte', 'exam', 'mein', 'poochhne', 'ke', 'liye', 'vah', 'bhi', 'theek', 'thaak', 'rahata', 'hai', '.', 'Kuch', 'bahut', 'hi', 'kharab', 'question', 'puche', 'jate', 'hain', 'jo', 'matlab', '5', 'sal', 'se', 'vahi', 'poochh', 'rahe', 'aur', '.', 'Indra', 'kumar', 'ke', 'a', 'rahe', 'hain', 'aur', '.', 'Just', 'vomiting', 'in', 'the', 'exam', 'hall', '.', 'Problem', '.', 'Aap', 'cheez', 'practical', 'mein', 'ham', 'log', 'jyada', 'focus', 'nahin', 'karte', '.', 'Ham', 'log', 'bahut', 'jyada', 'theory', 'mein', 'pocus', 'karte', 'bachpan', 'se', '.', 'Agri', 'infrastructure', 'and', '.', 'Stock', 'mein', 'problem', 'hai', '.', 'But', 'ek', 'apne', 'attitude', 'mein', 'bhi', 'problem', 'hai', '.', 'I', 'remember', 'in', 'my', 'college', 'all', 'other', 'people', 'used', 'to', 'be', 'like', '.', 'Kya', 'ho', 'gaya', '.', 'So', 'what', 'ek', '.', 'Ek', 'bandar', 'practical', 'kar', 'raha', 'hai', '.', 'Output', 'device', '.', 'Ab', 'agar', 'assignment', 'diya', 'hai', 'to', 'kyon', 'karenge', '.', 'Kharab', 'ki', 'kya', 'puchta', 'hun', 'student', 'ko', 'assignment', 'lene', 'ke', 'liye', '.', 'How', 'to', 'take', 'responsibility', 'in', 'life', 'you', 'have', 'to', 'take', 'responsibility', '.', 'You', 'got', 'the', 'universe', 'actress', 'genuinely', '.', 'And', 'in', 'this', 'way', '.', 'You', 'will', 'start', 'going', 'ahead', 'of', '.', 'The', 'rest', 'of', 'the', 'crowd', 'a', 'lot', '.', 'Lot', '.', 'I', \"'ll\", 'tell', 'you', 'on', 'sleep', 'i', 'ca', \"n't\", 'believe', 'it', '.', 'Mere', 'college', 'mein', 'jp', 'morgan', 'aaya', 'tha', 'pahla', 'company', 'tha', 'jo', 'kisne', 'kiya', 'tha', '.', 'Us', 'time', 'par', 'jo', 'log', 'kiye', 'kar', 'chuke', 'the', 'active', 'test', 'or', 'group', 'discussion', 'vo', 'log', 'jakar', 'mode', 'shortcut', 'rahe', 'the', '.', '4', 'sal', 'bad', 'ke', 'bad', 'tum', 'padh', 'rahe', 'ho', '.', 'How', 'can', 'i', 'respect', '.', 'A', 'person', 'who', 'is', 'learning', 'much', 'sought', 'after', '4', 'years', 'engineering', '.', 'So', '.', 'That', 'is', 'because', 'you', 'did', \"n't\", 'do', 'any', 'practicals', 'you', 'have', 'no', 'idea', 'what', 'algorithms', 'are', 'this', 'is', 'all', 'your', 'fault', 'you', 'ca', \"n't\", 'go', 'and', 'imagination', 'system', 'limited', '.', 'Classmate', '.', 'State', 'the', 'person', 'bacche', 'nahin', 'patna', 'pakistan', 'padh', 'rahe', 'ho', 'interview', 'ke', 'baad', 'kya', 'hota', 'hai', 'login', 'login', 'complicity', 'kya', 'hota', 'hai', '.', 'Uttam', '.', 'What', 'is', 'going', 'on', '.', 'Do', \"n't\", 'waste', 'your', 'time', 'in', 'college', 'that', 'much', '.', 'College', 'day', 'for', 'enjoying', 'but', 'also', 'then', 'you', 'have', 'to', 'take', 'responsibility', 'happy', 'journey', '.', 'I', 'think', 'that', 'is', 'just', 'because', 'that', 'in', 'practical', 'they', 'have', 'never', 'implemented', '.', 'After', 'one', 'month', 'or', 'two', 'week', 'they', 'tend', 'to', 'forget', 'that', 'how', 'the', 'more', 'shot', 'is', 'done', '.', 'Absolutely', 'i', 'think', 'your', 'your', 'right', 'and', 'reason', 'for', 'that', 'is', '1', 'to', 'hamara', 'education', 'system', 'and', 'is', 'also', 'pretty', 'bad', '.', 'Question', 'bank', 'wala', 'philosophy', 'attacking', 'koi', 'bhi', 'exam', 'ke', 'question', 'bank', 'mil', 'jaaye', 'to', 'achcha', 'rahega', '.', 'Question', 'bank', '.', 'The', 'companies', 'are', 'going', 'to', 'value', 'to', 'without', 'the', 'question', 'bank', 'therefore', 'because', 'they', 'want', 'to', 'people', 'who', 'are', 'useful', 'to', 'them', '.']\n"
     ]
    }
   ],
   "source": [
    "tokens = [token.text for token in doc]\n",
    "print(tokens)"
   ]
  },
  {
   "cell_type": "code",
   "execution_count": 15,
   "id": "03d90995",
   "metadata": {},
   "outputs": [
    {
     "data": {
      "text/plain": [
       "'!\"#$%&\\'()*+,-./:;<=>?@[\\\\]^_`{|}~\\n'"
      ]
     },
     "execution_count": 15,
     "metadata": {},
     "output_type": "execute_result"
    }
   ],
   "source": [
    "punctuation = punctuation + '\\n'\n",
    "punctuation"
   ]
  },
  {
   "cell_type": "code",
   "execution_count": 16,
   "id": "1912ada2",
   "metadata": {},
   "outputs": [
    {
     "name": "stdout",
     "output_type": "stream",
     "text": [
      "{'Project': 1, 'Ab': 5, 'exchange': 2, 'kar': 13, 'sakte': 3, 'ho': 10, 'aapke': 1, 'pass': 2, 'dimag': 1, 'hai': 26, 'iski': 1, 'vajah': 1, 'se': 6, 'aapko': 4, 'liya': 1, 'gaya': 4, 'going': 5, 'paid': 2, 'work': 2, 'fiction': 1, 'company': 10, 'preparation': 1, 'Ok': 3, 'interesting': 2, 'question': 4, 'hardware': 1, 'Starting': 1, 'working': 1, 'join': 1, 'English': 1, 'months': 1, 'training': 2, 'issue': 1, 'common': 3, 'concept': 1, 'know': 6, 'root': 1, 'write': 1, 'code': 1, 'solve': 2, 'simple': 1, 'mathematical': 1, 'problems': 1, 'Abhi': 3, 'like': 3, 'Motor': 1, 'difference': 1, 'orissa': 1, 'koi': 2, 'bolata': 1, 'ki': 14, 'yah': 5, 'project': 1, 'mein': 14, 'chij': 4, 'change': 1, 'ko': 6, 'want': 3, 'flexible': 1, 'Change': 1, 'karte': 6, 'aaj': 2, 'aap': 9, 'Thoda': 1, 'aage': 1, 'ka': 1, 'soch': 2, 'ke': 11, 'nashik': 1, 'pahle': 1, 'Yah': 2, 'sari': 1, 'hoti': 5, 'Divide': 1, 'food': 1, 'rahe': 6, 'surah': 1, 'fatiha': 1, 'personally': 1, 'recommend': 1, 'focus': 2, 'lot': 3, 'period': 1, 'ok': 1, 'important': 1, 'Secondary': 1, 'interest': 2, 'humble': 1, 'Sudhakar': 1, 'john': 1, 'things': 3, 'people': 3, 'patient': 1, 'Jo': 2, 'bhi': 4, 'naya': 1, 'technology': 5, 'diya': 2, 'kisi': 1, 'nahin': 7, 'pata': 4, 'agar': 4, 'open': 1, 'source': 1, 'achcha': 2, 'google': 1, 'uske': 1, 'bare': 3, 'Open': 1, 'mushkil': 2, 'hota': 6, 'andar': 4, 'hi': 4, 'uska': 1, 'documentation': 1, 'padh': 3, 'khud': 1, 'samajhte': 1, 'karna': 1, 'Vah': 1, 'bata': 1, 'sexy': 1, 'iske': 1, 'liye': 5, 'hamen': 2, 'ek': 4, 'Problem': 2, 'Uske': 2, 'vishva': 1, 'shasan': 1, 'contact': 1, 'city': 1, 'Agar': 2, 'mere': 1, 'aye': 1, 'kash': 2, 'ham': 2, 'log': 7, 'tikta': 1, 'operating': 1, 'system': 4, 'rahte': 1, 'hain': 5, 'fixes': 1, 'problem': 7, 'save': 1, 'aisi': 1, 'hard': 1, 'bass': 1, 'clear': 3, 'understand': 2, 'book': 1, 'kaun': 3, 'sa': 1, 'raha': 5, 'Elasticsearch': 2, 'use': 2, 'karne': 1, 'data': 2, 'bases': 1, 'kya': 7, 'Data': 1, 'structure': 1, 'chalega': 1, 'search': 1, 'kaise': 1, 'hoga': 1, 'aur': 3, 'elasticsearch': 1, 'jarurat': 2, 'si': 2, 'prani': 1, 'course': 1, 'person': 6, 'born': 1, 'Latest': 1, 'latest': 1, 'dependency': 1, 'library': 1, 'yes': 1, 'Focus': 1, 'salty': 1, 'nitin': 1, 'asking': 1, 'seen': 1, 'possible': 2, 'general': 1, 'note': 1, 'salt': 1, 'keeping': 1, 'mind': 1, 'Look': 1, 'internet': 1, 'Aur': 1, 'sar': 1, 'yahan': 1, 'confusion': 1, 'dekha': 1, 'students': 5, 'ask': 2, 'saying': 1, 'coding': 4, 'invest': 1, 'time': 3, 'online': 2, 'platform': 1, 'competitive': 2, 'programming': 1, 'response': 1, 'different': 2, 'platforms': 1, 'feel': 1, 'kind': 1, 'ladder': 1, 'stuff': 1, 'order': 1, 'reach': 1, 'stated': 1, 'Yes': 1, 'sides': 2, 'coin': 1, 'a.': 1, 'rishta': 1, 'fayde': 1, 'music': 1, 'matlab': 2, 'correct': 1, 'extent': 1, 'vahan': 1, 'Yaar': 1, 'simplecraft': 1, 'officer': 1, 'sakta': 1, 'computer': 1, 'engineer': 1, 'hone': 1, 'bavjud': 1, 'wapas': 1, 'Kailash': 1, 'meena': 1, 'Companies': 1, 'perspective': 1, 'Tell': 1, 'invented': 1, 'high': 1, 'court': 1, 'says': 1, 'yaar': 1, 'developer': 1, 'bahut': 3, 'constrained': 1, 'tarike': 1, 'mat': 1, 'bheja': 1, 'main': 1, 'jin': 1, 'logon': 1, 'train': 1, 'jo': 4, '11': 1, 'sal': 4, '12': 1, 'experience': 1, 'wale': 1, 'complexity': 1, 'Today': 1, 'mistake': 1, 'Function': 1, 'complex': 1, 'din': 1, 'Kya': 2, 'aake': 1, 'mujhe': 1, 'bol': 1, 'sakti': 1, 'tortoise': 1, 'Order': 1, 's6': 1, 'edge': 1, 'plus': 1, 'seven': 1, 'hun': 2, 'mi': 1, 'a2': 1, 'kitna': 1, 'bad': 5, 'familiar': 1, 'concepts': 2, 'structures': 1, 'algorithms': 2, 'life': 2, 'h': 1, 'little': 1, 'bit': 1, 'easy': 1, 'able': 3, 'apply': 1, 'given': 1, 'sure': 1, 'listening': 1, 'doubt': 1, 'got': 2, 'think': 3, 'Responsibilities': 1, 'Aapke': 1, 'hui': 1, 'jaan': 1, 'lagao': 1, 'kudi': 1, 'khushi': 1, 'responsibility': 4, 'learn': 1, 'accountability': 1, 'Tutitu': 1, 'appealing': 1, 'mixture': 1, 'believe': 2, 'entirely': 1, 'initial': 1, 'Water': 1, 'mistakes': 1, 'right': 2, 'preparing': 1, 'interview': 2, 'job': 1, 'talking': 2, 'big': 1, 'tech': 1, 'companies': 4, 'said': 1, 'large': 2, 'number': 2, 'startups': 1, 'service': 1, 'based': 2, 'product': 1, 'jobs': 1, 'vicious': 1, 'cycle': 1, 'Solar': 1, 'new': 1, 'syllabus': 1, 'khatam': 1, 'hua': 1, 'kafi': 1, 'smart': 1, 'hote': 1, 'colleges': 1, 'Choose': 1, 'exam': 3, 'poochhne': 1, 'vah': 1, 'theek': 1, 'thaak': 1, 'rahata': 1, 'Kuch': 1, 'kharab': 1, 'puche': 1, 'jate': 1, '5': 1, 'vahi': 1, 'poochh': 1, 'Indra': 1, 'kumar': 1, 'vomiting': 1, 'hall': 1, 'Aap': 1, 'cheez': 1, 'practical': 3, 'jyada': 2, 'Ham': 1, 'theory': 1, 'pocus': 1, 'bachpan': 1, 'Agri': 1, 'infrastructure': 1, 'Stock': 1, 'apne': 1, 'attitude': 1, 'remember': 1, 'college': 3, 'Ek': 1, 'bandar': 1, 'Output': 1, 'device': 1, 'assignment': 2, 'kyon': 1, 'karenge': 1, 'Kharab': 1, 'puchta': 1, 'student': 1, 'lene': 1, 'universe': 1, 'actress': 1, 'genuinely': 1, 'way': 1, 'start': 1, 'ahead': 1, 'rest': 1, 'crowd': 1, 'Lot': 1, 'tell': 1, 'sleep': 1, 'Mere': 1, 'jp': 1, 'morgan': 1, 'aaya': 1, 'tha': 3, 'pahla': 1, 'kisne': 1, 'kiya': 1, 'par': 1, 'kiye': 1, 'chuke': 1, 'active': 1, 'test': 1, 'group': 1, 'discussion': 1, 'vo': 1, 'jakar': 1, 'mode': 1, 'shortcut': 1, '4': 2, 'tum': 1, 'respect': 1, 'learning': 1, 'sought': 1, 'years': 1, 'engineering': 1, 'practicals': 1, 'idea': 1, 'fault': 1, 'imagination': 1, 'limited': 1, 'Classmate': 1, 'State': 1, 'bacche': 1, 'patna': 1, 'pakistan': 1, 'baad': 1, 'login': 2, 'complicity': 1, 'Uttam': 1, 'waste': 1, 'College': 1, 'day': 1, 'enjoying': 1, 'happy': 1, 'journey': 1, 'implemented': 1, 'month': 1, 'week': 1, 'tend': 1, 'forget': 1, 'shot': 1, 'Absolutely': 1, 'reason': 1, '1': 1, 'hamara': 1, 'education': 1, 'pretty': 1, 'Question': 2, 'bank': 4, 'wala': 1, 'philosophy': 1, 'attacking': 1, 'mil': 1, 'jaaye': 1, 'rahega': 1, 'value': 1, 'useful': 1}\n"
     ]
    }
   ],
   "source": [
    "word_frequencies = {}\n",
    "for word in doc:\n",
    "    if word.text.lower() not in stopwords:\n",
    "        if word.text.lower() not in punctuation:\n",
    "            if word.text not in word_frequencies.keys():\n",
    "                word_frequencies[word.text] = 1\n",
    "            else:\n",
    "                word_frequencies[word.text] += 1\n",
    "                \n",
    "print(word_frequencies)"
   ]
  },
  {
   "cell_type": "code",
   "execution_count": 17,
   "id": "19186a99",
   "metadata": {},
   "outputs": [
    {
     "data": {
      "text/plain": [
       "26"
      ]
     },
     "execution_count": 17,
     "metadata": {},
     "output_type": "execute_result"
    }
   ],
   "source": [
    "max_frequency = max(word_frequencies.values())\n",
    "max_frequency"
   ]
  },
  {
   "cell_type": "code",
   "execution_count": 18,
   "id": "a016eb2c",
   "metadata": {},
   "outputs": [
    {
     "name": "stdout",
     "output_type": "stream",
     "text": [
      "{'Project': 0.038461538461538464, 'Ab': 0.19230769230769232, 'exchange': 0.07692307692307693, 'kar': 0.5, 'sakte': 0.11538461538461539, 'ho': 0.38461538461538464, 'aapke': 0.038461538461538464, 'pass': 0.07692307692307693, 'dimag': 0.038461538461538464, 'hai': 1.0, 'iski': 0.038461538461538464, 'vajah': 0.038461538461538464, 'se': 0.23076923076923078, 'aapko': 0.15384615384615385, 'liya': 0.038461538461538464, 'gaya': 0.15384615384615385, 'going': 0.19230769230769232, 'paid': 0.07692307692307693, 'work': 0.07692307692307693, 'fiction': 0.038461538461538464, 'company': 0.38461538461538464, 'preparation': 0.038461538461538464, 'Ok': 0.11538461538461539, 'interesting': 0.07692307692307693, 'question': 0.15384615384615385, 'hardware': 0.038461538461538464, 'Starting': 0.038461538461538464, 'working': 0.038461538461538464, 'join': 0.038461538461538464, 'English': 0.038461538461538464, 'months': 0.038461538461538464, 'training': 0.07692307692307693, 'issue': 0.038461538461538464, 'common': 0.11538461538461539, 'concept': 0.038461538461538464, 'know': 0.23076923076923078, 'root': 0.038461538461538464, 'write': 0.038461538461538464, 'code': 0.038461538461538464, 'solve': 0.07692307692307693, 'simple': 0.038461538461538464, 'mathematical': 0.038461538461538464, 'problems': 0.038461538461538464, 'Abhi': 0.11538461538461539, 'like': 0.11538461538461539, 'Motor': 0.038461538461538464, 'difference': 0.038461538461538464, 'orissa': 0.038461538461538464, 'koi': 0.07692307692307693, 'bolata': 0.038461538461538464, 'ki': 0.5384615384615384, 'yah': 0.19230769230769232, 'project': 0.038461538461538464, 'mein': 0.5384615384615384, 'chij': 0.15384615384615385, 'change': 0.038461538461538464, 'ko': 0.23076923076923078, 'want': 0.11538461538461539, 'flexible': 0.038461538461538464, 'Change': 0.038461538461538464, 'karte': 0.23076923076923078, 'aaj': 0.07692307692307693, 'aap': 0.34615384615384615, 'Thoda': 0.038461538461538464, 'aage': 0.038461538461538464, 'ka': 0.038461538461538464, 'soch': 0.07692307692307693, 'ke': 0.4230769230769231, 'nashik': 0.038461538461538464, 'pahle': 0.038461538461538464, 'Yah': 0.07692307692307693, 'sari': 0.038461538461538464, 'hoti': 0.19230769230769232, 'Divide': 0.038461538461538464, 'food': 0.038461538461538464, 'rahe': 0.23076923076923078, 'surah': 0.038461538461538464, 'fatiha': 0.038461538461538464, 'personally': 0.038461538461538464, 'recommend': 0.038461538461538464, 'focus': 0.07692307692307693, 'lot': 0.11538461538461539, 'period': 0.038461538461538464, 'ok': 0.038461538461538464, 'important': 0.038461538461538464, 'Secondary': 0.038461538461538464, 'interest': 0.07692307692307693, 'humble': 0.038461538461538464, 'Sudhakar': 0.038461538461538464, 'john': 0.038461538461538464, 'things': 0.11538461538461539, 'people': 0.11538461538461539, 'patient': 0.038461538461538464, 'Jo': 0.07692307692307693, 'bhi': 0.15384615384615385, 'naya': 0.038461538461538464, 'technology': 0.19230769230769232, 'diya': 0.07692307692307693, 'kisi': 0.038461538461538464, 'nahin': 0.2692307692307692, 'pata': 0.15384615384615385, 'agar': 0.15384615384615385, 'open': 0.038461538461538464, 'source': 0.038461538461538464, 'achcha': 0.07692307692307693, 'google': 0.038461538461538464, 'uske': 0.038461538461538464, 'bare': 0.11538461538461539, 'Open': 0.038461538461538464, 'mushkil': 0.07692307692307693, 'hota': 0.23076923076923078, 'andar': 0.15384615384615385, 'hi': 0.15384615384615385, 'uska': 0.038461538461538464, 'documentation': 0.038461538461538464, 'padh': 0.11538461538461539, 'khud': 0.038461538461538464, 'samajhte': 0.038461538461538464, 'karna': 0.038461538461538464, 'Vah': 0.038461538461538464, 'bata': 0.038461538461538464, 'sexy': 0.038461538461538464, 'iske': 0.038461538461538464, 'liye': 0.19230769230769232, 'hamen': 0.07692307692307693, 'ek': 0.15384615384615385, 'Problem': 0.07692307692307693, 'Uske': 0.07692307692307693, 'vishva': 0.038461538461538464, 'shasan': 0.038461538461538464, 'contact': 0.038461538461538464, 'city': 0.038461538461538464, 'Agar': 0.07692307692307693, 'mere': 0.038461538461538464, 'aye': 0.038461538461538464, 'kash': 0.07692307692307693, 'ham': 0.07692307692307693, 'log': 0.2692307692307692, 'tikta': 0.038461538461538464, 'operating': 0.038461538461538464, 'system': 0.15384615384615385, 'rahte': 0.038461538461538464, 'hain': 0.19230769230769232, 'fixes': 0.038461538461538464, 'problem': 0.2692307692307692, 'save': 0.038461538461538464, 'aisi': 0.038461538461538464, 'hard': 0.038461538461538464, 'bass': 0.038461538461538464, 'clear': 0.11538461538461539, 'understand': 0.07692307692307693, 'book': 0.038461538461538464, 'kaun': 0.11538461538461539, 'sa': 0.038461538461538464, 'raha': 0.19230769230769232, 'Elasticsearch': 0.07692307692307693, 'use': 0.07692307692307693, 'karne': 0.038461538461538464, 'data': 0.07692307692307693, 'bases': 0.038461538461538464, 'kya': 0.2692307692307692, 'Data': 0.038461538461538464, 'structure': 0.038461538461538464, 'chalega': 0.038461538461538464, 'search': 0.038461538461538464, 'kaise': 0.038461538461538464, 'hoga': 0.038461538461538464, 'aur': 0.11538461538461539, 'elasticsearch': 0.038461538461538464, 'jarurat': 0.07692307692307693, 'si': 0.07692307692307693, 'prani': 0.038461538461538464, 'course': 0.038461538461538464, 'person': 0.23076923076923078, 'born': 0.038461538461538464, 'Latest': 0.038461538461538464, 'latest': 0.038461538461538464, 'dependency': 0.038461538461538464, 'library': 0.038461538461538464, 'yes': 0.038461538461538464, 'Focus': 0.038461538461538464, 'salty': 0.038461538461538464, 'nitin': 0.038461538461538464, 'asking': 0.038461538461538464, 'seen': 0.038461538461538464, 'possible': 0.07692307692307693, 'general': 0.038461538461538464, 'note': 0.038461538461538464, 'salt': 0.038461538461538464, 'keeping': 0.038461538461538464, 'mind': 0.038461538461538464, 'Look': 0.038461538461538464, 'internet': 0.038461538461538464, 'Aur': 0.038461538461538464, 'sar': 0.038461538461538464, 'yahan': 0.038461538461538464, 'confusion': 0.038461538461538464, 'dekha': 0.038461538461538464, 'students': 0.19230769230769232, 'ask': 0.07692307692307693, 'saying': 0.038461538461538464, 'coding': 0.15384615384615385, 'invest': 0.038461538461538464, 'time': 0.11538461538461539, 'online': 0.07692307692307693, 'platform': 0.038461538461538464, 'competitive': 0.07692307692307693, 'programming': 0.038461538461538464, 'response': 0.038461538461538464, 'different': 0.07692307692307693, 'platforms': 0.038461538461538464, 'feel': 0.038461538461538464, 'kind': 0.038461538461538464, 'ladder': 0.038461538461538464, 'stuff': 0.038461538461538464, 'order': 0.038461538461538464, 'reach': 0.038461538461538464, 'stated': 0.038461538461538464, 'Yes': 0.038461538461538464, 'sides': 0.07692307692307693, 'coin': 0.038461538461538464, 'a.': 0.038461538461538464, 'rishta': 0.038461538461538464, 'fayde': 0.038461538461538464, 'music': 0.038461538461538464, 'matlab': 0.07692307692307693, 'correct': 0.038461538461538464, 'extent': 0.038461538461538464, 'vahan': 0.038461538461538464, 'Yaar': 0.038461538461538464, 'simplecraft': 0.038461538461538464, 'officer': 0.038461538461538464, 'sakta': 0.038461538461538464, 'computer': 0.038461538461538464, 'engineer': 0.038461538461538464, 'hone': 0.038461538461538464, 'bavjud': 0.038461538461538464, 'wapas': 0.038461538461538464, 'Kailash': 0.038461538461538464, 'meena': 0.038461538461538464, 'Companies': 0.038461538461538464, 'perspective': 0.038461538461538464, 'Tell': 0.038461538461538464, 'invented': 0.038461538461538464, 'high': 0.038461538461538464, 'court': 0.038461538461538464, 'says': 0.038461538461538464, 'yaar': 0.038461538461538464, 'developer': 0.038461538461538464, 'bahut': 0.11538461538461539, 'constrained': 0.038461538461538464, 'tarike': 0.038461538461538464, 'mat': 0.038461538461538464, 'bheja': 0.038461538461538464, 'main': 0.038461538461538464, 'jin': 0.038461538461538464, 'logon': 0.038461538461538464, 'train': 0.038461538461538464, 'jo': 0.15384615384615385, '11': 0.038461538461538464, 'sal': 0.15384615384615385, '12': 0.038461538461538464, 'experience': 0.038461538461538464, 'wale': 0.038461538461538464, 'complexity': 0.038461538461538464, 'Today': 0.038461538461538464, 'mistake': 0.038461538461538464, 'Function': 0.038461538461538464, 'complex': 0.038461538461538464, 'din': 0.038461538461538464, 'Kya': 0.07692307692307693, 'aake': 0.038461538461538464, 'mujhe': 0.038461538461538464, 'bol': 0.038461538461538464, 'sakti': 0.038461538461538464, 'tortoise': 0.038461538461538464, 'Order': 0.038461538461538464, 's6': 0.038461538461538464, 'edge': 0.038461538461538464, 'plus': 0.038461538461538464, 'seven': 0.038461538461538464, 'hun': 0.07692307692307693, 'mi': 0.038461538461538464, 'a2': 0.038461538461538464, 'kitna': 0.038461538461538464, 'bad': 0.19230769230769232, 'familiar': 0.038461538461538464, 'concepts': 0.07692307692307693, 'structures': 0.038461538461538464, 'algorithms': 0.07692307692307693, 'life': 0.07692307692307693, 'h': 0.038461538461538464, 'little': 0.038461538461538464, 'bit': 0.038461538461538464, 'easy': 0.038461538461538464, 'able': 0.11538461538461539, 'apply': 0.038461538461538464, 'given': 0.038461538461538464, 'sure': 0.038461538461538464, 'listening': 0.038461538461538464, 'doubt': 0.038461538461538464, 'got': 0.07692307692307693, 'think': 0.11538461538461539, 'Responsibilities': 0.038461538461538464, 'Aapke': 0.038461538461538464, 'hui': 0.038461538461538464, 'jaan': 0.038461538461538464, 'lagao': 0.038461538461538464, 'kudi': 0.038461538461538464, 'khushi': 0.038461538461538464, 'responsibility': 0.15384615384615385, 'learn': 0.038461538461538464, 'accountability': 0.038461538461538464, 'Tutitu': 0.038461538461538464, 'appealing': 0.038461538461538464, 'mixture': 0.038461538461538464, 'believe': 0.07692307692307693, 'entirely': 0.038461538461538464, 'initial': 0.038461538461538464, 'Water': 0.038461538461538464, 'mistakes': 0.038461538461538464, 'right': 0.07692307692307693, 'preparing': 0.038461538461538464, 'interview': 0.07692307692307693, 'job': 0.038461538461538464, 'talking': 0.07692307692307693, 'big': 0.038461538461538464, 'tech': 0.038461538461538464, 'companies': 0.15384615384615385, 'said': 0.038461538461538464, 'large': 0.07692307692307693, 'number': 0.07692307692307693, 'startups': 0.038461538461538464, 'service': 0.038461538461538464, 'based': 0.07692307692307693, 'product': 0.038461538461538464, 'jobs': 0.038461538461538464, 'vicious': 0.038461538461538464, 'cycle': 0.038461538461538464, 'Solar': 0.038461538461538464, 'new': 0.038461538461538464, 'syllabus': 0.038461538461538464, 'khatam': 0.038461538461538464, 'hua': 0.038461538461538464, 'kafi': 0.038461538461538464, 'smart': 0.038461538461538464, 'hote': 0.038461538461538464, 'colleges': 0.038461538461538464, 'Choose': 0.038461538461538464, 'exam': 0.11538461538461539, 'poochhne': 0.038461538461538464, 'vah': 0.038461538461538464, 'theek': 0.038461538461538464, 'thaak': 0.038461538461538464, 'rahata': 0.038461538461538464, 'Kuch': 0.038461538461538464, 'kharab': 0.038461538461538464, 'puche': 0.038461538461538464, 'jate': 0.038461538461538464, '5': 0.038461538461538464, 'vahi': 0.038461538461538464, 'poochh': 0.038461538461538464, 'Indra': 0.038461538461538464, 'kumar': 0.038461538461538464, 'vomiting': 0.038461538461538464, 'hall': 0.038461538461538464, 'Aap': 0.038461538461538464, 'cheez': 0.038461538461538464, 'practical': 0.11538461538461539, 'jyada': 0.07692307692307693, 'Ham': 0.038461538461538464, 'theory': 0.038461538461538464, 'pocus': 0.038461538461538464, 'bachpan': 0.038461538461538464, 'Agri': 0.038461538461538464, 'infrastructure': 0.038461538461538464, 'Stock': 0.038461538461538464, 'apne': 0.038461538461538464, 'attitude': 0.038461538461538464, 'remember': 0.038461538461538464, 'college': 0.11538461538461539, 'Ek': 0.038461538461538464, 'bandar': 0.038461538461538464, 'Output': 0.038461538461538464, 'device': 0.038461538461538464, 'assignment': 0.07692307692307693, 'kyon': 0.038461538461538464, 'karenge': 0.038461538461538464, 'Kharab': 0.038461538461538464, 'puchta': 0.038461538461538464, 'student': 0.038461538461538464, 'lene': 0.038461538461538464, 'universe': 0.038461538461538464, 'actress': 0.038461538461538464, 'genuinely': 0.038461538461538464, 'way': 0.038461538461538464, 'start': 0.038461538461538464, 'ahead': 0.038461538461538464, 'rest': 0.038461538461538464, 'crowd': 0.038461538461538464, 'Lot': 0.038461538461538464, 'tell': 0.038461538461538464, 'sleep': 0.038461538461538464, 'Mere': 0.038461538461538464, 'jp': 0.038461538461538464, 'morgan': 0.038461538461538464, 'aaya': 0.038461538461538464, 'tha': 0.11538461538461539, 'pahla': 0.038461538461538464, 'kisne': 0.038461538461538464, 'kiya': 0.038461538461538464, 'par': 0.038461538461538464, 'kiye': 0.038461538461538464, 'chuke': 0.038461538461538464, 'active': 0.038461538461538464, 'test': 0.038461538461538464, 'group': 0.038461538461538464, 'discussion': 0.038461538461538464, 'vo': 0.038461538461538464, 'jakar': 0.038461538461538464, 'mode': 0.038461538461538464, 'shortcut': 0.038461538461538464, '4': 0.07692307692307693, 'tum': 0.038461538461538464, 'respect': 0.038461538461538464, 'learning': 0.038461538461538464, 'sought': 0.038461538461538464, 'years': 0.038461538461538464, 'engineering': 0.038461538461538464, 'practicals': 0.038461538461538464, 'idea': 0.038461538461538464, 'fault': 0.038461538461538464, 'imagination': 0.038461538461538464, 'limited': 0.038461538461538464, 'Classmate': 0.038461538461538464, 'State': 0.038461538461538464, 'bacche': 0.038461538461538464, 'patna': 0.038461538461538464, 'pakistan': 0.038461538461538464, 'baad': 0.038461538461538464, 'login': 0.07692307692307693, 'complicity': 0.038461538461538464, 'Uttam': 0.038461538461538464, 'waste': 0.038461538461538464, 'College': 0.038461538461538464, 'day': 0.038461538461538464, 'enjoying': 0.038461538461538464, 'happy': 0.038461538461538464, 'journey': 0.038461538461538464, 'implemented': 0.038461538461538464, 'month': 0.038461538461538464, 'week': 0.038461538461538464, 'tend': 0.038461538461538464, 'forget': 0.038461538461538464, 'shot': 0.038461538461538464, 'Absolutely': 0.038461538461538464, 'reason': 0.038461538461538464, '1': 0.038461538461538464, 'hamara': 0.038461538461538464, 'education': 0.038461538461538464, 'pretty': 0.038461538461538464, 'Question': 0.07692307692307693, 'bank': 0.15384615384615385, 'wala': 0.038461538461538464, 'philosophy': 0.038461538461538464, 'attacking': 0.038461538461538464, 'mil': 0.038461538461538464, 'jaaye': 0.038461538461538464, 'rahega': 0.038461538461538464, 'value': 0.038461538461538464, 'useful': 0.038461538461538464}\n"
     ]
    }
   ],
   "source": [
    "for word in word_frequencies.keys():\n",
    "    word_frequencies[word] = word_frequencies[word]/max_frequency\n",
    "\n",
    "print(word_frequencies)"
   ]
  },
  {
   "cell_type": "code",
   "execution_count": 19,
   "id": "023baaf3",
   "metadata": {},
   "outputs": [
    {
     "name": "stdout",
     "output_type": "stream",
     "text": [
      "[Project., Ab exchange to kar sakte ho aapke pass dimag hai iski vajah se aapko liya gaya., I'm going paid., What is the work of fiction do while he is at the company., How to preparation for the company and that is., Ok., That's very interesting question the hardware by., Starting working in a company., If you just join your first company., English should be about one or two months of training., And in that issue some common concept that all is you should know about it be root to this how to write code, and we know how to solve some simple mathematical problems., Abhi., You like me you have., Motor difference in orissa koi aapko bolata hai ki yah project mein yah chij change kar do., Ab exchange ko kar sakte ho., I'm going paid., But what you want to do it you want to make it flexible., Change karte ho aaj karte ho., To aap., Thoda aage ka soch ke first in nashik pahle aaj karte ho., Yah sari chij hoti hai yah aap., Divide food kar rahe ho., To aapko surah fatiha i would personally recommend ki you focus a lot and your training period ok, but that is is very important., Secondary interest in be very humble., Sudhakar john more things and people are more patient with you., Jo aapko bhi naya technology diya gaya kisi ko nahin pata agar open source to achcha google mein uske bare mein., Open soch mushkil hota hai ki aap andar hi andar uska documentation padh kar khud se samajhte karna., Vah bata do sexy to iske liye hamen ek chij hoti ki., Problem., Uske bare mein vishva shasan contact., The city., Agar mere pass aye kash kash ham log tikta operating system mein rahte hain., This fixes a common problem save on ke bare mein aisi hard bass clear., Then we can understand ki technology book kaun sa problem solve kar raha hai., Elasticsearch use karne ke liye., Abhi agar aap ko pata hai ki data bases kya hoti hai., Data structure kya hota hai., Abhi aap ko pata chalega ki yah search., Elasticsearch kaise kar raha hoga andar hi andar aur hamen elasticsearch jarurat hai kaun si prani course call kar raha hai., When a person is a technology don't be born down by a technology., Latest latest., Your dependency library hai., If yes no., Focus on what is the problem it is salty., Uske liye nitin asking so against of you are seen as much as possible but in general note from salt., Ab keeping that in mind., Look internet technology ki., Aur sar yahan per confusion dekha many students who when i ask them when i ask me., When someone saying that you should do coding you should you should invest your time on the online platform to competitive programming and all of that students response sometime that you don't know what is the work we have to do at the company that is very different from this competitive coding or coding at the online platforms., What is this like what i feel it this is a kind of ladder that we have to do all the stuff in order to reach to a company then we will be doing the things which you stated now., Yes and two sides of the coin have one of the things is this a., Yah rishta kya fayde use company music nahin hota to matlab., Ok so that is one that is correct also to some extent., Ab do chij ke vahan per ek hai ki., Yaar aap kya simplecraft officer nahin kar sakta computer engineer hone ke bavjud., Agar aap nahin kar sakte to wapas company mein., Kailash meena., That is the., Companies perspective., Now., Tell me one person who has invented something., And does not know about high court., There is no such person., So., When a person says ki yaar ki jarurat nahin hai., To aap per developer yah bahut hi constrained tarike mat bheja to main jin logon train ki jo 11 sal 12 sal experience wale log hain complexity hoti hai., Today se mistake hoti hai., Function kaun ko complex din pata hai., Kya aake mujhe bol sakti agar do tortoise hai problem., Order and s6 edge plus seven kar raha hun to any ho gaya., It is interesting to see you know that this clear mi a2 kitna mushkil hota hai bad mein., You are familiar with the concepts of data structures and algorithms., The life and interest in the coding h the company and become a little bit easy that we are able to apply those concepts., To some other different problem which are given to us., I am very sure that listening this even my doubt got clear., I think., Responsibilities on both sides., Aapke side per hai ki aap hui jaan lagao kudi si khushi se you know., As much as possible you take responsibility for yourself and learn., And accountability on and on., Tutitu., If they are not doing well and appealing., Themselves., So it is., It is a mixture and so don't believe yourself entirely you initial you don't understand something., Water some of the common mistakes you see students doing right now but they are preparing for interview., We could see a lot of students not able to get job any not just not talking about big tech companies and talking about in all said that there are large number of startups there there are a large number of service based companies also product based companies take some students are doing that they are not able to get the jobs., It's it's a vicious cycle., Solar system., Is., Ok is not bad new syllabus the side khatam hua kafi smart log hote hain., Jo colleges., Choose karte exam mein poochhne ke liye vah bhi theek thaak rahata hai., Kuch bahut hi kharab question puche jate hain jo matlab 5 sal se vahi poochh rahe aur., Indra kumar ke a rahe hain aur., Just vomiting in the exam hall., Problem., Aap cheez practical mein ham log jyada focus nahin karte., Ham log bahut jyada theory mein pocus karte bachpan se., Agri infrastructure and., Stock mein problem hai., But ek apne attitude mein bhi problem hai., I remember in my college all other people used to be like., Kya ho gaya., So what ek., Ek bandar practical kar raha hai., Output device., Ab agar assignment diya hai to kyon karenge., Kharab ki kya puchta hun student ko assignment lene ke liye., How to take responsibility in life you have to take responsibility., You got the universe actress genuinely., And in this way., You will start going ahead of., The rest of the crowd a lot., Lot., I'll tell you on sleep i can't believe it., Mere college mein jp morgan aaya tha pahla company tha jo kisne kiya tha., Us time par jo log kiye kar chuke the active test or group discussion vo log jakar mode shortcut rahe the. 4 sal bad ke bad tum padh rahe ho., How can i respect., A person who is learning much sought after 4 years engineering., So., That is because you didn't do any practicals you have no idea what algorithms are this is all your fault you can't go and imagination system limited., Classmate., State the person bacche nahin patna pakistan padh rahe ho interview ke baad kya hota hai login login complicity kya hota hai., Uttam., What is going on., Don't waste your time in college that much., College day for enjoying but also then you have to take responsibility happy journey., I think that is just because that in practical they have never implemented., After one month or two week they tend to forget that how the more shot is done., Absolutely i think your your right and reason for that is 1 to hamara education system and is also pretty bad., Question bank wala philosophy attacking koi bhi exam ke question bank mil jaaye to achcha rahega., Question bank., The companies are going to value to without the question bank therefore because they want to people who are useful to them.]\n"
     ]
    }
   ],
   "source": [
    "sentence_tokens = [sent for sent in doc.sents]\n",
    "print(sentence_tokens)"
   ]
  },
  {
   "cell_type": "code",
   "execution_count": 20,
   "id": "d1f90d25",
   "metadata": {},
   "outputs": [
    {
     "data": {
      "text/plain": [
       "{Project.: 0.038461538461538464,\n",
       " Ab exchange to kar sakte ho aapke pass dimag hai iski vajah se aapko liya gaya.: 2.884615384615384,\n",
       " I'm going paid.: 0.2692307692307693,\n",
       " What is the work of fiction do while he is at the company.: 0.5,\n",
       " How to preparation for the company and that is.: 0.42307692307692313,\n",
       " Ok.: 0.038461538461538464,\n",
       " That's very interesting question the hardware by.: 0.2692307692307693,\n",
       " Starting working in a company.: 0.42307692307692313,\n",
       " If you just join your first company.: 0.42307692307692313,\n",
       " English should be about one or two months of training.: 0.11538461538461539,\n",
       " And in that issue some common concept that all is you should know about it be root to this how to write code: 0.5384615384615384,\n",
       " and we know how to solve some simple mathematical problems.: 0.423076923076923,\n",
       " You like me you have.: 0.11538461538461539,\n",
       " Motor difference in orissa koi aapko bolata hai ki yah project mein yah chij change kar do.: 3.5384615384615383,\n",
       " Ab exchange ko kar sakte ho.: 1.3076923076923077,\n",
       " I'm going paid.: 0.2692307692307693,\n",
       " But what you want to do it you want to make it flexible.: 0.2692307692307693,\n",
       " Change karte ho aaj karte ho.: 1.3461538461538463,\n",
       " To aap.: 0.34615384615384615,\n",
       " Thoda aage ka soch ke first in nashik pahle aaj karte ho.: 1.346153846153846,\n",
       " Yah sari chij hoti hai yah aap.: 2.1153846153846154,\n",
       " Divide food kar rahe ho.: 1.1538461538461537,\n",
       " To aapko surah fatiha i would personally recommend ki you focus a lot and your training period ok: 1.1923076923076925,\n",
       " but that is is very important.: 0.038461538461538464,\n",
       " Secondary interest in be very humble.: 0.11538461538461539,\n",
       " Sudhakar john more things and people are more patient with you.: 0.3076923076923077,\n",
       " Jo aapko bhi naya technology diya gaya kisi ko nahin pata agar open source to achcha google mein uske bare mein.: 3.192307692307692,\n",
       " Open soch mushkil hota hai ki aap andar hi andar uska documentation padh kar khud se samajhte karna.: 3.807692307692307,\n",
       " Vah bata do sexy to iske liye hamen ek chij hoti ki.: 1.4615384615384615,\n",
       " Problem.: 0.2692307692307692,\n",
       " Uske bare mein vishva shasan contact.: 0.8076923076923076,\n",
       " The city.: 0.038461538461538464,\n",
       " Agar mere pass aye kash kash ham log tikta operating system mein rahte hain.: 1.8076923076923075,\n",
       " This fixes a common problem save on ke bare mein aisi hard bass clear.: 1.7692307692307694,\n",
       " Then we can understand ki technology book kaun sa problem solve kar raha hai.: 3.0384615384615383,\n",
       " Elasticsearch use karne ke liye.: 0.7692307692307692,\n",
       " Abhi agar aap ko pata hai ki data bases kya hoti hai.: 4.0,\n",
       " Data structure kya hota hai.: 1.6153846153846154,\n",
       " Abhi aap ko pata chalega ki yah search.: 1.5384615384615383,\n",
       " Elasticsearch kaise kar raha hoga andar hi andar aur hamen elasticsearch jarurat hai kaun si prani course call kar raha hai.: 4.538461538461538,\n",
       " When a person is a technology don't be born down by a technology.: 0.6538461538461539,\n",
       " Latest latest.: 0.07692307692307693,\n",
       " Your dependency library hai.: 1.0769230769230769,\n",
       " If yes no.: 0.038461538461538464,\n",
       " Focus on what is the problem it is salty.: 0.3846153846153846,\n",
       " Uske liye nitin asking so against of you are seen as much as possible but in general note from salt.: 0.5384615384615384,\n",
       " Ab keeping that in mind.: 0.07692307692307693,\n",
       " Look internet technology ki.: 0.7692307692307692,\n",
       " Aur sar yahan per confusion dekha many students who when i ask them when i ask me.: 0.6153846153846154,\n",
       " When someone saying that you should do coding you should you should invest your time on the online platform to competitive programming and all of that students response sometime that you don't know what is the work we have to do at the company that is very different from this competitive coding or coding at the online platforms.: 2.0769230769230766,\n",
       " What is this like what i feel it this is a kind of ladder that we have to do all the stuff in order to reach to a company then we will be doing the things which you stated now.: 0.8846153846153847,\n",
       " Yes and two sides of the coin have one of the things is this a.: 0.3076923076923077,\n",
       " Yah rishta kya fayde use company music nahin hota to matlab.: 1.6153846153846154,\n",
       " Ok so that is one that is correct also to some extent.: 0.11538461538461539,\n",
       " Ab do chij ke vahan per ek hai ki.: 2.3076923076923075,\n",
       " Yaar aap kya simplecraft officer nahin kar sakta computer engineer hone ke bavjud.: 2.1153846153846154,\n",
       " Agar aap nahin kar sakte to wapas company mein.: 2.3461538461538463,\n",
       " Kailash meena.: 0.038461538461538464,\n",
       " Companies perspective.: 0.19230769230769232,\n",
       " Tell me one person who has invented something.: 0.3076923076923077,\n",
       " And does not know about high court.: 0.3076923076923077,\n",
       " There is no such person.: 0.23076923076923078,\n",
       " When a person says ki yaar ki jarurat nahin hai.: 2.730769230769231,\n",
       " To aap per developer yah bahut hi constrained tarike mat bheja to main jin logon train ki jo 11 sal 12 sal experience wale log hain complexity hoti hai.: 4.0,\n",
       " Today se mistake hoti hai.: 1.4615384615384617,\n",
       " Function kaun ko complex din pata hai.: 1.5769230769230769,\n",
       " Kya aake mujhe bol sakti agar do tortoise hai problem.: 1.8846153846153846,\n",
       " Order and s6 edge plus seven kar raha hun to any ho gaya.: 1.5,\n",
       " It is interesting to see you know that this clear mi a2 kitna mushkil hota hai bad mein.: 2.576923076923077,\n",
       " You are familiar with the concepts of data structures and algorithms.: 0.3076923076923077,\n",
       " The life and interest in the coding h the company and become a little bit easy that we are able to apply those concepts.: 1.0769230769230769,\n",
       " To some other different problem which are given to us.: 0.3846153846153846,\n",
       " I am very sure that listening this even my doubt got clear.: 0.3076923076923077,\n",
       " I think.: 0.11538461538461539,\n",
       " Responsibilities on both sides.: 0.07692307692307693,\n",
       " Aapke side per hai ki aap hui jaan lagao kudi si khushi se you know.: 2.653846153846154,\n",
       " As much as possible you take responsibility for yourself and learn.: 0.2692307692307693,\n",
       " And accountability on and on.: 0.038461538461538464,\n",
       " If they are not doing well and appealing.: 0.038461538461538464,\n",
       " It is a mixture and so don't believe yourself entirely you initial you don't understand something.: 0.2692307692307693,\n",
       " Water some of the common mistakes you see students doing right now but they are preparing for interview.: 0.5384615384615385,\n",
       " We could see a lot of students not able to get job any not just not talking about big tech companies and talking about in all said that there are large number of startups there there are a large number of service based companies also product based companies take some students are doing that they are not able to get the jobs.: 2.115384615384615,\n",
       " It's it's a vicious cycle.: 0.07692307692307693,\n",
       " Solar system.: 0.15384615384615385,\n",
       " Ok is not bad new syllabus the side khatam hua kafi smart log hote hain.: 0.9615384615384613,\n",
       " Jo colleges.: 0.19230769230769232,\n",
       " Choose karte exam mein poochhne ke liye vah bhi theek thaak rahata hai.: 2.8461538461538467,\n",
       " Kuch bahut hi kharab question puche jate hain jo matlab 5 sal se vahi poochh rahe aur.: 1.807692307692308,\n",
       " Indra kumar ke a rahe hain aur.: 1.0,\n",
       " Just vomiting in the exam hall.: 0.19230769230769232,\n",
       " Problem.: 0.2692307692307692,\n",
       " Aap cheez practical mein ham log jyada focus nahin karte.: 2.038461538461538,\n",
       " Ham log bahut jyada theory mein pocus karte bachpan se.: 1.6538461538461542,\n",
       " Agri infrastructure and.: 0.038461538461538464,\n",
       " Stock mein problem hai.: 1.8076923076923077,\n",
       " But ek apne attitude mein bhi problem hai.: 2.1923076923076925,\n",
       " I remember in my college all other people used to be like.: 0.3846153846153847,\n",
       " Kya ho gaya.: 0.8076923076923077,\n",
       " So what ek.: 0.15384615384615385,\n",
       " Ek bandar practical kar raha hai.: 2.0,\n",
       " Output device.: 0.038461538461538464,\n",
       " Ab agar assignment diya hai to kyon karenge.: 1.3846153846153848,\n",
       " Kharab ki kya puchta hun student ko assignment lene ke liye.: 1.9615384615384615,\n",
       " How to take responsibility in life you have to take responsibility.: 0.38461538461538464,\n",
       " You got the universe actress genuinely.: 0.19230769230769232,\n",
       " And in this way.: 0.038461538461538464,\n",
       " You will start going ahead of.: 0.2692307692307693,\n",
       " The rest of the crowd a lot.: 0.19230769230769232,\n",
       " Lot.: 0.11538461538461539,\n",
       " I'll tell you on sleep i can't believe it.: 0.15384615384615385,\n",
       " Mere college mein jp morgan aaya tha pahla company tha jo kisne kiya tha.: 1.807692307692308,\n",
       " Us time par jo log kiye kar chuke the active test or group discussion vo log jakar mode shortcut rahe the. 4 sal bad ke bad tum padh rahe ho.: 3.76923076923077,\n",
       " How can i respect.: 0.038461538461538464,\n",
       " A person who is learning much sought after 4 years engineering.: 0.46153846153846156,\n",
       " That is because you didn't do any practicals you have no idea what algorithms are this is all your fault you can't go and imagination system limited.: 0.42307692307692313,\n",
       " State the person bacche nahin patna pakistan padh rahe ho interview ke baad kya hota hai login login complicity kya hota hai.: 5.0769230769230775,\n",
       " What is going on.: 0.19230769230769232,\n",
       " Don't waste your time in college that much.: 0.2692307692307693,\n",
       " College day for enjoying but also then you have to take responsibility happy journey.: 0.423076923076923,\n",
       " I think that is just because that in practical they have never implemented.: 0.2692307692307693,\n",
       " After one month or two week they tend to forget that how the more shot is done.: 0.19230769230769232,\n",
       " Absolutely i think your your right and reason for that is 1 to hamara education system and is also pretty bad.: 0.7307692307692307,\n",
       " Question bank wala philosophy attacking koi bhi exam ke question bank mil jaaye to achcha rahega.: 1.6923076923076925,\n",
       " Question bank.: 0.3076923076923077,\n",
       " The companies are going to value to without the question bank therefore because they want to people who are useful to them.: 0.9615384615384616}"
      ]
     },
     "execution_count": 20,
     "metadata": {},
     "output_type": "execute_result"
    }
   ],
   "source": [
    "sentence_scores = {}\n",
    "for sent in sentence_tokens:\n",
    "    for word in sent:\n",
    "        if word.text.lower() in word_frequencies.keys():\n",
    "            if sent not in sentence_scores.keys():\n",
    "                sentence_scores[sent] = word_frequencies[word.text.lower()]\n",
    "            else:\n",
    "                sentence_scores[sent] += word_frequencies[word.text.lower()]\n",
    "                \n",
    "sentence_scores"
   ]
  },
  {
   "cell_type": "code",
   "execution_count": 21,
   "id": "c5678348",
   "metadata": {},
   "outputs": [],
   "source": [
    "from heapq import nlargest"
   ]
  },
  {
   "cell_type": "code",
   "execution_count": 22,
   "id": "ab2f9916",
   "metadata": {},
   "outputs": [
    {
     "data": {
      "text/plain": [
       "40"
      ]
     },
     "execution_count": 22,
     "metadata": {},
     "output_type": "execute_result"
    }
   ],
   "source": [
    "select_length = int(len(sentence_tokens)*0.3)\n",
    "select_length"
   ]
  },
  {
   "cell_type": "code",
   "execution_count": 23,
   "id": "e97eebf0",
   "metadata": {},
   "outputs": [
    {
     "data": {
      "text/plain": [
       "[State the person bacche nahin patna pakistan padh rahe ho interview ke baad kya hota hai login login complicity kya hota hai.,\n",
       " Elasticsearch kaise kar raha hoga andar hi andar aur hamen elasticsearch jarurat hai kaun si prani course call kar raha hai.,\n",
       " Abhi agar aap ko pata hai ki data bases kya hoti hai.,\n",
       " To aap per developer yah bahut hi constrained tarike mat bheja to main jin logon train ki jo 11 sal 12 sal experience wale log hain complexity hoti hai.,\n",
       " Open soch mushkil hota hai ki aap andar hi andar uska documentation padh kar khud se samajhte karna.,\n",
       " Us time par jo log kiye kar chuke the active test or group discussion vo log jakar mode shortcut rahe the. 4 sal bad ke bad tum padh rahe ho.,\n",
       " Motor difference in orissa koi aapko bolata hai ki yah project mein yah chij change kar do.,\n",
       " Jo aapko bhi naya technology diya gaya kisi ko nahin pata agar open source to achcha google mein uske bare mein.,\n",
       " Then we can understand ki technology book kaun sa problem solve kar raha hai.,\n",
       " Ab exchange to kar sakte ho aapke pass dimag hai iski vajah se aapko liya gaya.,\n",
       " Choose karte exam mein poochhne ke liye vah bhi theek thaak rahata hai.,\n",
       " When a person says ki yaar ki jarurat nahin hai.,\n",
       " Aapke side per hai ki aap hui jaan lagao kudi si khushi se you know.,\n",
       " It is interesting to see you know that this clear mi a2 kitna mushkil hota hai bad mein.,\n",
       " Agar aap nahin kar sakte to wapas company mein.,\n",
       " Ab do chij ke vahan per ek hai ki.,\n",
       " But ek apne attitude mein bhi problem hai.,\n",
       " Yah sari chij hoti hai yah aap.,\n",
       " Yaar aap kya simplecraft officer nahin kar sakta computer engineer hone ke bavjud.,\n",
       " We could see a lot of students not able to get job any not just not talking about big tech companies and talking about in all said that there are large number of startups there there are a large number of service based companies also product based companies take some students are doing that they are not able to get the jobs.,\n",
       " When someone saying that you should do coding you should you should invest your time on the online platform to competitive programming and all of that students response sometime that you don't know what is the work we have to do at the company that is very different from this competitive coding or coding at the online platforms.,\n",
       " Aap cheez practical mein ham log jyada focus nahin karte.,\n",
       " Ek bandar practical kar raha hai.,\n",
       " Kharab ki kya puchta hun student ko assignment lene ke liye.,\n",
       " Kya aake mujhe bol sakti agar do tortoise hai problem.,\n",
       " Kuch bahut hi kharab question puche jate hain jo matlab 5 sal se vahi poochh rahe aur.,\n",
       " Mere college mein jp morgan aaya tha pahla company tha jo kisne kiya tha.,\n",
       " Stock mein problem hai.,\n",
       " Agar mere pass aye kash kash ham log tikta operating system mein rahte hain.,\n",
       " This fixes a common problem save on ke bare mein aisi hard bass clear.,\n",
       " Question bank wala philosophy attacking koi bhi exam ke question bank mil jaaye to achcha rahega.,\n",
       " Ham log bahut jyada theory mein pocus karte bachpan se.,\n",
       " Data structure kya hota hai.,\n",
       " Yah rishta kya fayde use company music nahin hota to matlab.,\n",
       " Function kaun ko complex din pata hai.,\n",
       " Abhi aap ko pata chalega ki yah search.,\n",
       " Order and s6 edge plus seven kar raha hun to any ho gaya.,\n",
       " Today se mistake hoti hai.,\n",
       " Vah bata do sexy to iske liye hamen ek chij hoti ki.,\n",
       " Ab agar assignment diya hai to kyon karenge.]"
      ]
     },
     "execution_count": 23,
     "metadata": {},
     "output_type": "execute_result"
    }
   ],
   "source": [
    "summary = nlargest(select_length, sentence_scores, key = sentence_scores.get)\n",
    "summary"
   ]
  },
  {
   "cell_type": "code",
   "execution_count": 24,
   "id": "5f8f81b9",
   "metadata": {},
   "outputs": [],
   "source": [
    "final_summary = [word.text for word in summary]\n",
    "summary = ' '.join(final_summary)"
   ]
  },
  {
   "cell_type": "code",
   "execution_count": 25,
   "id": "c34dfef2",
   "metadata": {},
   "outputs": [
    {
     "name": "stdout",
     "output_type": "stream",
     "text": [
      "Project. Ab exchange to kar sakte ho aapke pass dimag hai iski vajah se aapko liya gaya. I'm going paid. What is the work of fiction do while he is at the company. How to preparation for the company and that is. Ok. That's very interesting question the hardware by. Starting working in a company. If you just join your first company. English should be about one or two months of training. And in that issue some common concept that all is you should know about it be root to this how to write code and we know how to solve some simple mathematical problems. Abhi. You like me you have. Motor difference in orissa koi aapko bolata hai ki yah project mein yah chij change kar do. Ab exchange ko kar sakte ho. I'm going paid. But what you want to do it you want to make it flexible. Change karte ho aaj karte ho. To aap. Thoda aage ka soch ke first in nashik pahle aaj karte ho. Yah sari chij hoti hai yah aap. Divide food kar rahe ho. To aapko surah fatiha i would personally recommend ki you focus a lot and your training period ok but that is is very important. Secondary interest in be very humble. Sudhakar john more things and people are more patient with you. Jo aapko bhi naya technology diya gaya kisi ko nahin pata agar open source to achcha google mein uske bare mein. Open soch mushkil hota hai ki aap andar hi andar uska documentation padh kar khud se samajhte karna. Vah bata do sexy to iske liye hamen ek chij hoti ki. Problem. Uske bare mein vishva shasan contact. The city. Agar mere pass aye kash kash ham log tikta operating system mein rahte hain. This fixes a common problem save on ke bare mein aisi hard bass clear. Then we can understand ki technology book kaun sa problem solve kar raha hai. Elasticsearch use karne ke liye. Abhi agar aap ko pata hai ki data bases kya hoti hai. Data structure kya hota hai. Abhi aap ko pata chalega ki yah search. Elasticsearch kaise kar raha hoga andar hi andar aur hamen elasticsearch jarurat hai kaun si prani course call kar raha hai. When a person is a technology don't be born down by a technology. Latest latest. Your dependency library hai. If yes no. Focus on what is the problem it is salty. Uske liye nitin asking so against of you are seen as much as possible but in general note from salt. Ab keeping that in mind. Look internet technology ki. Aur sar yahan per confusion dekha many students who when i ask them when i ask me. When someone saying that you should do coding you should you should invest your time on the online platform to competitive programming and all of that students response sometime that you don't know what is the work we have to do at the company that is very different from this competitive coding or coding at the online platforms. What is this like what i feel it this is a kind of ladder that we have to do all the stuff in order to reach to a company then we will be doing the things which you stated now. Yes and two sides of the coin have one of the things is this a. Yah rishta kya fayde use company music nahin hota to matlab. Ok so that is one that is correct also to some extent. Ab do chij ke vahan per ek hai ki. Yaar aap kya simplecraft officer nahin kar sakta computer engineer hone ke bavjud. Agar aap nahin kar sakte to wapas company mein. Kailash meena. That is the. Companies perspective. Now. Tell me one person who has invented something. And does not know about high court. There is no such person. So. When a person says ki yaar ki jarurat nahin hai. To aap per developer yah bahut hi constrained tarike mat bheja to main jin logon train ki jo 11 sal 12 sal experience wale log hain complexity hoti hai. Today se mistake hoti hai. Function kaun ko complex din pata hai. Kya aake mujhe bol sakti agar do tortoise hai problem. Order and s6 edge plus seven kar raha hun to any ho gaya. It is interesting to see you know that this clear mi a2 kitna mushkil hota hai bad mein. You are familiar with the concepts of data structures and algorithms. The life and interest in the coding h the company and become a little bit easy that we are able to apply those concepts. To some other different problem which are given to us. I am very sure that listening this even my doubt got clear. I think. Responsibilities on both sides. Aapke side per hai ki aap hui jaan lagao kudi si khushi se you know. As much as possible you take responsibility for yourself and learn. And accountability on and on. Tutitu. If they are not doing well and appealing. Themselves. So it is. It is a mixture and so don't believe yourself entirely you initial you don't understand something. Water some of the common mistakes you see students doing right now but they are preparing for interview. We could see a lot of students not able to get job any not just not talking about big tech companies and talking about in all said that there are large number of startups there there are a large number of service based companies also product based companies take some students are doing that they are not able to get the jobs. It's it's a vicious cycle. Solar system. Is. Ok is not bad new syllabus the side khatam hua kafi smart log hote hain. Jo colleges. Choose karte exam mein poochhne ke liye vah bhi theek thaak rahata hai. Kuch bahut hi kharab question puche jate hain jo matlab 5 sal se vahi poochh rahe aur. Indra kumar ke a rahe hain aur. Just vomiting in the exam hall. Problem. Aap cheez practical mein ham log jyada focus nahin karte. Ham log bahut jyada theory mein pocus karte bachpan se. Agri infrastructure and. Stock mein problem hai. But ek apne attitude mein bhi problem hai. I remember in my college all other people used to be like. Kya ho gaya. So what ek. Ek bandar practical kar raha hai. Output device. Ab agar assignment diya hai to kyon karenge. Kharab ki kya puchta hun student ko assignment lene ke liye. How to take responsibility in life you have to take responsibility. You got the universe actress genuinely. And in this way. You will start going ahead of. The rest of the crowd a lot. Lot. I'll tell you on sleep i can't believe it. Mere college mein jp morgan aaya tha pahla company tha jo kisne kiya tha. Us time par jo log kiye kar chuke the active test or group discussion vo log jakar mode shortcut rahe the. 4 sal bad ke bad tum padh rahe ho. How can i respect. A person who is learning much sought after 4 years engineering. So. That is because you didn't do any practicals you have no idea what algorithms are this is all your fault you can't go and imagination system limited. Classmate. State the person bacche nahin patna pakistan padh rahe ho interview ke baad kya hota hai login login complicity kya hota hai. Uttam. What is going on. Don't waste your time in college that much. College day for enjoying but also then you have to take responsibility happy journey. I think that is just because that in practical they have never implemented. After one month or two week they tend to forget that how the more shot is done. Absolutely i think your your right and reason for that is 1 to hamara education system and is also pretty bad. Question bank wala philosophy attacking koi bhi exam ke question bank mil jaaye to achcha rahega. Question bank. The companies are going to value to without the question bank therefore because they want to people who are useful to them. \n"
     ]
    }
   ],
   "source": [
    "print(text)"
   ]
  },
  {
   "cell_type": "code",
   "execution_count": 26,
   "id": "c5c2c1a6",
   "metadata": {},
   "outputs": [
    {
     "name": "stdout",
     "output_type": "stream",
     "text": [
      "State the person bacche nahin patna pakistan padh rahe ho interview ke baad kya hota hai login login complicity kya hota hai. Elasticsearch kaise kar raha hoga andar hi andar aur hamen elasticsearch jarurat hai kaun si prani course call kar raha hai. Abhi agar aap ko pata hai ki data bases kya hoti hai. To aap per developer yah bahut hi constrained tarike mat bheja to main jin logon train ki jo 11 sal 12 sal experience wale log hain complexity hoti hai. Open soch mushkil hota hai ki aap andar hi andar uska documentation padh kar khud se samajhte karna. Us time par jo log kiye kar chuke the active test or group discussion vo log jakar mode shortcut rahe the. 4 sal bad ke bad tum padh rahe ho. Motor difference in orissa koi aapko bolata hai ki yah project mein yah chij change kar do. Jo aapko bhi naya technology diya gaya kisi ko nahin pata agar open source to achcha google mein uske bare mein. Then we can understand ki technology book kaun sa problem solve kar raha hai. Ab exchange to kar sakte ho aapke pass dimag hai iski vajah se aapko liya gaya. Choose karte exam mein poochhne ke liye vah bhi theek thaak rahata hai. When a person says ki yaar ki jarurat nahin hai. Aapke side per hai ki aap hui jaan lagao kudi si khushi se you know. It is interesting to see you know that this clear mi a2 kitna mushkil hota hai bad mein. Agar aap nahin kar sakte to wapas company mein. Ab do chij ke vahan per ek hai ki. But ek apne attitude mein bhi problem hai. Yah sari chij hoti hai yah aap. Yaar aap kya simplecraft officer nahin kar sakta computer engineer hone ke bavjud. We could see a lot of students not able to get job any not just not talking about big tech companies and talking about in all said that there are large number of startups there there are a large number of service based companies also product based companies take some students are doing that they are not able to get the jobs. When someone saying that you should do coding you should you should invest your time on the online platform to competitive programming and all of that students response sometime that you don't know what is the work we have to do at the company that is very different from this competitive coding or coding at the online platforms. Aap cheez practical mein ham log jyada focus nahin karte. Ek bandar practical kar raha hai. Kharab ki kya puchta hun student ko assignment lene ke liye. Kya aake mujhe bol sakti agar do tortoise hai problem. Kuch bahut hi kharab question puche jate hain jo matlab 5 sal se vahi poochh rahe aur. Mere college mein jp morgan aaya tha pahla company tha jo kisne kiya tha. Stock mein problem hai. Agar mere pass aye kash kash ham log tikta operating system mein rahte hain. This fixes a common problem save on ke bare mein aisi hard bass clear. Question bank wala philosophy attacking koi bhi exam ke question bank mil jaaye to achcha rahega. Ham log bahut jyada theory mein pocus karte bachpan se. Data structure kya hota hai. Yah rishta kya fayde use company music nahin hota to matlab. Function kaun ko complex din pata hai. Abhi aap ko pata chalega ki yah search. Order and s6 edge plus seven kar raha hun to any ho gaya. Today se mistake hoti hai. Vah bata do sexy to iske liye hamen ek chij hoti ki. Ab agar assignment diya hai to kyon karenge.\n"
     ]
    }
   ],
   "source": [
    "print(summary)"
   ]
  },
  {
   "cell_type": "code",
   "execution_count": null,
   "id": "83893b39",
   "metadata": {},
   "outputs": [],
   "source": []
  },
  {
   "cell_type": "code",
   "execution_count": 27,
   "id": "862117c9",
   "metadata": {},
   "outputs": [],
   "source": [
    "# with sr.Microphone() as source:\n",
    "#     # read the audio data from the default microphone\n",
    "#     audio_data = r.record(source, duration=5)\n",
    "#     print(\"Recognizing...\")\n",
    "#     # convert speech to text\n",
    "#     text = r.recognize_google(audio_data)\n",
    "#     print(text)"
   ]
  },
  {
   "cell_type": "code",
   "execution_count": 28,
   "id": "9ae3d6a9",
   "metadata": {},
   "outputs": [],
   "source": [
    "# text = r.recognize_google(audio_data, language=\"es-ES\")"
   ]
  },
  {
   "cell_type": "code",
   "execution_count": null,
   "id": "dc207caa",
   "metadata": {},
   "outputs": [],
   "source": []
  },
  {
   "cell_type": "code",
   "execution_count": null,
   "id": "f2ccaa1d",
   "metadata": {},
   "outputs": [],
   "source": []
  },
  {
   "cell_type": "code",
   "execution_count": null,
   "id": "efc1420b",
   "metadata": {},
   "outputs": [],
   "source": []
  }
 ],
 "metadata": {
  "kernelspec": {
   "display_name": "Python 3 (ipykernel)",
   "language": "python",
   "name": "python3"
  },
  "language_info": {
   "codemirror_mode": {
    "name": "ipython",
    "version": 3
   },
   "file_extension": ".py",
   "mimetype": "text/x-python",
   "name": "python",
   "nbconvert_exporter": "python",
   "pygments_lexer": "ipython3",
   "version": "3.9.6"
  }
 },
 "nbformat": 4,
 "nbformat_minor": 5
}
